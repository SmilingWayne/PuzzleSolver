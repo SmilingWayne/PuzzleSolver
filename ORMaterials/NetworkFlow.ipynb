{
 "cells": [
  {
   "cell_type": "markdown",
   "metadata": {},
   "source": [
    "# Max Flow Problem"
   ]
  },
  {
   "cell_type": "code",
   "execution_count": 1,
   "metadata": {},
   "outputs": [
    {
     "name": "stdout",
     "output_type": "stream",
     "text": [
      "Max flow: 60\n",
      "\n",
      " Arc    Flow / Capacity\n",
      "0 / 1    20  /  20\n",
      "0 / 2    30  /  30\n",
      "0 / 3    10  /  10\n",
      "1 / 2     0  /  40\n",
      "1 / 4    20  /  30\n",
      "2 / 3    10  /  10\n",
      "2 / 4    20  /  20\n",
      "3 / 2     0  /   5\n",
      "3 / 4    20  /  20\n",
      "Source side min-cut: [0]\n",
      "Sink side min-cut: [4, 1]\n"
     ]
    }
   ],
   "source": [
    "\"\"\"From Taha 'Introduction to Operations Research', example 6.4-2.\"\"\"\n",
    "import numpy as np\n",
    "\n",
    "from ortools.graph.python import max_flow\n",
    "\n",
    "\n",
    "def main():\n",
    "    \"\"\"MaxFlow simple interface example.\"\"\"\n",
    "    # Instantiate a SimpleMaxFlow solver.\n",
    "    smf = max_flow.SimpleMaxFlow()\n",
    "\n",
    "    # Define three parallel arrays: start_nodes, end_nodes, and the capacities\n",
    "    # between each pair. For instance, the arc from node 0 to node 1 has a\n",
    "    # capacity of 20.\n",
    "    start_nodes = np.array([0, 0, 0, 1, 1, 2, 2, 3, 3])\n",
    "    end_nodes = np.array([1, 2, 3, 2, 4, 3, 4, 2, 4])\n",
    "    capacities = np.array([20, 30, 10, 40, 30, 10, 20, 5, 20])\n",
    "\n",
    "    # Add arcs in bulk.\n",
    "    #   note: we could have used add_arc_with_capacity(start, end, capacity)\n",
    "    all_arcs = smf.add_arcs_with_capacity(start_nodes, end_nodes, capacities)\n",
    "\n",
    "    # Find the maximum flow between node 0 and node 4.\n",
    "    status = smf.solve(0, 4)\n",
    "\n",
    "    if status != smf.OPTIMAL:\n",
    "        print(\"There was an issue with the max flow input.\")\n",
    "        print(f\"Status: {status}\")\n",
    "        exit(1)\n",
    "    print(\"Max flow:\", smf.optimal_flow())\n",
    "    print(\"\")\n",
    "    print(\" Arc    Flow / Capacity\")\n",
    "    solution_flows = smf.flows(all_arcs)\n",
    "    for arc, flow, capacity in zip(all_arcs, solution_flows, capacities):\n",
    "        print(f\"{smf.tail(arc)} / {smf.head(arc)}   {flow:3}  / {capacity:3}\")\n",
    "    print(\"Source side min-cut:\", smf.get_source_side_min_cut())\n",
    "    print(\"Sink side min-cut:\", smf.get_sink_side_min_cut())\n",
    "\n",
    "\n",
    "if __name__ == \"__main__\":\n",
    "    main()"
   ]
  },
  {
   "cell_type": "markdown",
   "metadata": {},
   "source": [
    "# Min Cost Flow"
   ]
  },
  {
   "cell_type": "code",
   "execution_count": 2,
   "metadata": {},
   "outputs": [
    {
     "name": "stdout",
     "output_type": "stream",
     "text": [
      "Minimum cost: 150\n",
      "\n",
      " Arc    Flow / Capacity Cost\n",
      "0 -> 1   12  /  15       48\n",
      "0 -> 2    8  /   8       32\n",
      "1 -> 2    8  /  20       16\n",
      "1 -> 3    4  /   4       8\n",
      "1 -> 4    0  /  10       0\n",
      "2 -> 3   12  /  15       12\n",
      "2 -> 4    4  /   4       12\n",
      "3 -> 4   11  /  20       22\n",
      "4 -> 2    0  /   5       0\n"
     ]
    }
   ],
   "source": [
    "\"\"\"From Bradley, Hax and Maganti, 'Applied Mathematical Programming', figure 8.1.\"\"\"\n",
    "import numpy as np\n",
    "\n",
    "from ortools.graph.python import min_cost_flow\n",
    "\n",
    "\n",
    "def main():\n",
    "    \"\"\"MinCostFlow simple interface example.\"\"\"\n",
    "    # Instantiate a SimpleMinCostFlow solver.\n",
    "    smcf = min_cost_flow.SimpleMinCostFlow()\n",
    "\n",
    "    # Define four parallel arrays: sources, destinations, capacities,\n",
    "    # and unit costs between each pair. For instance, the arc from node 0\n",
    "    # to node 1 has a capacity of 15.\n",
    "    start_nodes = np.array([0, 0, 1, 1, 1, 2, 2, 3, 4])\n",
    "    end_nodes = np.array([1, 2, 2, 3, 4, 3, 4, 4, 2])\n",
    "    capacities = np.array([15, 8, 20, 4, 10, 15, 4, 20, 5])\n",
    "    unit_costs = np.array([4, 4, 2, 2, 6, 1, 3, 2, 3])\n",
    "\n",
    "    # Define an array of supplies at each node.\n",
    "    supplies = [20, 0, 0, -5, -15]\n",
    "\n",
    "    # Add arcs, capacities and costs in bulk using numpy.\n",
    "    all_arcs = smcf.add_arcs_with_capacity_and_unit_cost(\n",
    "        start_nodes, end_nodes, capacities, unit_costs\n",
    "    )\n",
    "\n",
    "    # Add supply for each nodes.\n",
    "    smcf.set_nodes_supplies(np.arange(0, len(supplies)), supplies)\n",
    "\n",
    "    # Find the min cost flow.\n",
    "    status = smcf.solve()\n",
    "\n",
    "    if status != smcf.OPTIMAL:\n",
    "        print(\"There was an issue with the min cost flow input.\")\n",
    "        print(f\"Status: {status}\")\n",
    "        exit(1)\n",
    "    print(f\"Minimum cost: {smcf.optimal_cost()}\")\n",
    "    print(\"\")\n",
    "    print(\" Arc    Flow / Capacity Cost\")\n",
    "    solution_flows = smcf.flows(all_arcs)\n",
    "    costs = solution_flows * unit_costs\n",
    "    for arc, flow, cost in zip(all_arcs, solution_flows, costs):\n",
    "        print(\n",
    "            f\"{smcf.tail(arc):1} -> {smcf.head(arc)}  {flow:3}  / {smcf.capacity(arc):3}       {cost}\"\n",
    "        )\n",
    "\n",
    "\n",
    "if __name__ == \"__main__\":\n",
    "    main()"
   ]
  },
  {
   "cell_type": "code",
   "execution_count": null,
   "metadata": {},
   "outputs": [],
   "source": []
  }
 ],
 "metadata": {
  "kernelspec": {
   "display_name": "py310_arm",
   "language": "python",
   "name": "python3"
  },
  "language_info": {
   "codemirror_mode": {
    "name": "ipython",
    "version": 3
   },
   "file_extension": ".py",
   "mimetype": "text/x-python",
   "name": "python",
   "nbconvert_exporter": "python",
   "pygments_lexer": "ipython3",
   "version": "3.10.14"
  }
 },
 "nbformat": 4,
 "nbformat_minor": 2
}
