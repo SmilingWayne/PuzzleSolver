{
 "cells": [
  {
   "cell_type": "code",
   "execution_count": null,
   "metadata": {},
   "outputs": [],
   "source": [
    "class ParallemMachine:\n",
    "    def __init__(self) -> None:\n",
    "        pass"
   ]
  },
  {
   "cell_type": "code",
   "execution_count": null,
   "metadata": {},
   "outputs": [],
   "source": [
    "# Generate test Case\n",
    "import numpy as np\n",
    "rng = np.random.default_rng()\n",
    "m = 4\n",
    "n = 100\n",
    "w = list(rng.choice(91, n) + 10)\n",
    "p = list(rng.choice(91, n) + 10)\n",
    "print(m)\n",
    "print(n)\n",
    "print(w)\n",
    "print(p)"
   ]
  },
  {
   "cell_type": "code",
   "execution_count": 13,
   "metadata": {},
   "outputs": [
    {
     "name": "stdout",
     "output_type": "stream",
     "text": [
      "order [0 3 1 2]\n",
      "[1 7 3 4]\n",
      "[ 2  5  7 10]\n",
      "588\n"
     ]
    }
   ],
   "source": [
    "import numpy as np\n",
    "\n",
    "a = np.array([\n",
    "    [0, 1, 1, 0, 0, 1, 0, 1, 0, 1, 1, 0, 0, 1, 0, 1, 1, 0, 0, 1],\n",
    "    [1, 0, 0, 1, 1, 0, 1, 0, 1, 0, 0, 1, 1, 0, 1, 0, 0, 1, 1, 0],\n",
    "    [0, 1, 1, 0, 0, 1, 0, 1, 0, 1, 1, 0, 0, 1, 0, 1, 1, 0, 0, 1],\n",
    "    [1, 0, 0, 1, 1, 0, 1, 0, 1, 0, 0, 1, 1, 0, 1, 0, 0, 1, 1, 0],\n",
    "    [1, 0, 1, 0, 1, 0, 1, 0, 0, 1, 1, 0, 0, 1, 0, 1, 0, 1, 0, 1],\n",
    "    [0, 1, 1, 0, 0, 1, 0, 1, 1, 0, 0, 1, 0, 1, 0, 1, 0, 1, 1, 0],\n",
    "    [0, 1, 1, 0, 0, 1, 0, 1, 0, 1, 1, 0, 1, 0, 1, 0, 1, 0, 0, 1],\n",
    "    [1, 0, 0, 1, 1, 0, 1, 0, 1, 0, 0, 1, 0, 1, 0, 1, 0, 1, 1, 0]\n",
    "])\n",
    "\n",
    "\n",
    "p = np.array([1,2,3,5,7,8,9,10])\n",
    "w = np.array([2,4,6,8,10,12,14,16])\n",
    "temp = np.where(a[:, 0])[0]\n",
    "\n",
    "def smith_order(s, p, w):\n",
    "    rate = w[s] / p[s]\n",
    "    order = rate.argsort()[::-1]             # get indexes of rate into decreasing order\n",
    "    print(f\"order { order}\")\n",
    "    return s[order]\n",
    "\n",
    "print(smith_order(temp, p, w))\n",
    "asub = p[temp]\n",
    "print(asub)\n",
    "print(np.cumsum(asub) @ w[temp])\n",
    "\n"
   ]
  },
  {
   "cell_type": "code",
   "execution_count": 5,
   "metadata": {},
   "outputs": [
    {
     "name": "stdout",
     "output_type": "stream",
     "text": [
      "Cumulative Sum along Columns:\n",
      " [[ 1  2]\n",
      " [ 4  6]\n",
      " [ 9 12]]\n",
      "Cumulative Sum along Rows:\n",
      " [[ 1  3]\n",
      " [ 3  7]\n",
      " [ 5 11]]\n"
     ]
    }
   ],
   "source": [
    "arr_2d = np.array([[1, 2], [3, 4], [5, 6]])\n",
    "cumulative_sum_axis0 = np.cumsum(arr_2d, axis=0)  # Cumulative sum along columns\n",
    "cumulative_sum_axis1 = np.cumsum(arr_2d, axis=1)  # Cumulative sum along rows\n",
    "\n",
    "print(\"Cumulative Sum along Columns:\\n\", cumulative_sum_axis0)\n",
    "print(\"Cumulative Sum along Rows:\\n\", cumulative_sum_axis1)"
   ]
  },
  {
   "cell_type": "code",
   "execution_count": 2,
   "metadata": {},
   "outputs": [
    {
     "name": "stdout",
     "output_type": "stream",
     "text": [
      "\n",
      "Miller-Tucker-Zemlin's model:\n",
      "Optimal value: 330.0\n",
      "x(1,4) = 1.0\n",
      "x(2,3) = 1.0\n",
      "x(3,5) = 1.0\n",
      "x(4,2) = 1.0\n",
      "x(5,1) = 1.0\n",
      "u(5) = 4.0\n",
      "u(2) = 2.0\n",
      "u(3) = 3.0\n",
      "u(4) = 1.0\n",
      "[1, 4, 2, 3, 5]\n",
      "[1, 4, 2, 3]\n"
     ]
    }
   ],
   "source": []
  },
  {
   "cell_type": "code",
   "execution_count": null,
   "metadata": {},
   "outputs": [],
   "source": [
    "# Contents Update"
   ]
  }
 ],
 "metadata": {
  "kernelspec": {
   "display_name": "py310",
   "language": "python",
   "name": "python3"
  },
  "language_info": {
   "codemirror_mode": {
    "name": "ipython",
    "version": 3
   },
   "file_extension": ".py",
   "mimetype": "text/x-python",
   "name": "python",
   "nbconvert_exporter": "python",
   "pygments_lexer": "ipython3",
   "version": "3.10.12"
  }
 },
 "nbformat": 4,
 "nbformat_minor": 2
}
