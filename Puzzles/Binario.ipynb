{
 "cells": [
  {
   "cell_type": "markdown",
   "metadata": {},
   "source": [
    "# Binairo \n",
    "\n",
    "Binairo is played on a rectangular grid with no standard size. Some cells start out filled with black or white circles. The rest of the cells are empty. The goal is to place circles in all cells in such a way that:\n",
    "\n",
    "1. Each row and each column must contain an equal number of white and black circles.\n",
    "\n",
    "2. More than two circles of the same color can't be adjacent.\n",
    "\n",
    "3. Each row and column is unique. \n",
    "\n",
    "\n",
    "---------\n",
    "\n",
    "1. Binairo 在矩形网格上播放，没有标准尺寸。有些单元格开始时充满了黑色或白色的圆圈。其余的单元格是空的。目标是以以下方式在所有单元格中放置圆圈；\n",
    "2. 每行和每列必须包含相同数量的白色和黑色圆圈。\n",
    "3. 两个以上相同颜色的圆圈不能相邻。\n",
    "4. 每一行每一列都是独一无二的。"
   ]
  },
  {
   "cell_type": "code",
   "execution_count": 1,
   "metadata": {},
   "outputs": [],
   "source": [
    "\n",
    "def readGrid(path):\n",
    "    with open(f\"../assets/data/Binario/{path}.txt\") as f:\n",
    "        num = f.readline()\n",
    "        m, n = num.split(\" \")[0], num.split(\" \")[1]\n",
    "        grid = f.readlines()\n",
    "        res = \"\".join([g.strip() for g in grid])\n",
    "        return int(m), int(n), res"
   ]
  },
  {
   "cell_type": "code",
   "execution_count": 3,
   "metadata": {},
   "outputs": [
    {
     "name": "stdout",
     "output_type": "stream",
     "text": [
      "1000100000000010010100000010002010000001020002002020002010000000000100000200002000010200000020001000002000200100001002020000020000200000001002200010110020000000000000100000000202201002020001011000020000100000000002010000010102001010001002000100101000000000022000200000022002020000100101000011000000100200000000000020011020000000200020200000000000000101000001100100000100001000000210200000000001000100\n",
      "400\n"
     ]
    }
   ],
   "source": [
    "if __name__ == \"__main__\":\n",
    "    m, n, grid = readGrid(\"20x20_1\")\n",
    "    "
   ]
  },
  {
   "cell_type": "code",
   "execution_count": 5,
   "metadata": {},
   "outputs": [
    {
     "name": "stdout",
     "output_type": "stream",
     "text": [
      "0 0 1 1 0 0 1 0 0 1 0 0 1 1 0 0 1 0 1 0 \n",
      "1 1 0 0 1 1 0 0 1 0 1 1 0 0 1 1 0 0 1 0 \n",
      "0 1 0 1 0 1 0 1 1 0 1 0 1 0 1 0 0 1 0 1 \n",
      "0 0 1 0 1 0 1 0 0 1 0 1 0 1 0 0 1 0 1 0 \n",
      "1 1 0 0 1 1 0 1 0 0 1 0 1 0 1 1 0 0 1 0 \n",
      "0 0 1 1 0 0 1 0 1 0 0 1 0 1 0 0 1 1 0 1 \n",
      "1 0 0 1 0 1 1 0 0 1 1 0 0 1 0 1 0 1 0 0 \n",
      "0 1 1 0 1 0 0 1 0 0 1 0 1 0 1 0 1 0 1 1 \n",
      "1 0 0 1 0 1 0 0 1 1 0 1 1 0 0 1 0 1 1 0 \n",
      "0 0 1 1 0 1 1 0 1 0 1 0 0 1 0 0 1 1 0 1 \n",
      "1 1 0 0 1 0 1 1 0 0 1 0 0 1 1 0 1 0 1 1 \n",
      "0 0 1 0 1 1 0 1 0 1 0 1 1 0 0 1 0 1 0 0 \n",
      "1 0 0 1 0 1 0 0 1 0 0 1 0 0 1 0 0 1 1 0 \n",
      "0 1 1 0 1 0 1 0 0 1 1 0 0 1 0 1 1 0 1 1 \n",
      "0 0 1 0 1 0 0 1 0 1 0 0 1 0 0 1 0 1 0 0 \n",
      "1 1 0 1 0 1 0 0 1 0 1 1 0 1 1 0 1 0 0 1 \n",
      "1 0 1 0 1 0 1 0 1 1 0 1 1 0 1 1 0 1 1 0 \n",
      "0 1 0 1 0 0 1 1 0 0 1 0 1 1 0 0 1 0 0 1 \n",
      "1 0 1 0 0 1 0 0 1 1 0 1 0 0 1 0 0 1 0 1 \n",
      "0 0 1 0 1 0 0 1 0 0 1 0 1 0 0 1 0 0 1 0 \n",
      "\n",
      "CpSolverResponse summary:\n",
      "status: OPTIMAL\n",
      "objective: 0\n",
      "best_bound: 0\n",
      "integers: 0\n",
      "booleans: 0\n",
      "conflicts: 0\n",
      "branches: 0\n",
      "propagations: 0\n",
      "integer_propagations: 0\n",
      "restarts: 0\n",
      "lp_iterations: 0\n",
      "walltime: 0.006709\n",
      "usertime: 0.006709\n",
      "deterministic_time: 7.296e-05\n",
      "gap_integral: 0\n",
      "solution_fingerprint: 0xbf0a6a52d646753f\n",
      "\n"
     ]
    }
   ],
   "source": [
    "from ortools.sat.python import cp_model as cp\n",
    "class BinarioSolver:\n",
    "    \n",
    "    def __init__(self, X, Y, grid) -> None:\n",
    "        self.X = X\n",
    "        self.Y = Y\n",
    "        self.grid = grid \n",
    "        self.x = {}\n",
    "        self.model = cp.CpModel()\n",
    "        self.solver = cp.CpSolver()\n",
    "        for i in range(self.X):\n",
    "            for j in range(self.Y):\n",
    "                if self.grid[i * self.Y + j] == \"0\":\n",
    "                    self.x[i, j] = self.model.NewBoolVar(f'x[{i}, {j}]')\n",
    "                elif self.grid[i * self.Y + j] == \"1\":\n",
    "                    self.x[i, j] = 0\n",
    "                else:\n",
    "                    self.x[i, j] = 1\n",
    "    def addConstr(self):\n",
    "        for i in range(self.X):\n",
    "            for j in range(self.Y - 2):\n",
    "                arr = [self.x[i, y] for y in range(j, j + 3)]\n",
    "                self.model.Add(sum(arr) <= 2)\n",
    "                self.model.Add(sum(arr) >= 1)\n",
    "\n",
    "        for j in range(self.Y):\n",
    "            for i in range(self.X - 2):\n",
    "                arr = [self.x[xx, j] for xx in range(i, i + 3)]\n",
    "                self.model.Add(sum(arr) <= 2)\n",
    "                self.model.Add(sum(arr) >= 1)\n",
    "    \n",
    "    def printgrid(self):\n",
    "        for i in range(self.X):\n",
    "            for j in range(self.Y):\n",
    "                if self.grid[i * self.Y + j] == \"2\":\n",
    "                    print(\"1\", end = \" \")\n",
    "                elif self.grid[i * self.Y + j] == \"1\":\n",
    "                    print(\"0\", end = \" \")\n",
    "                else:\n",
    "                    print(self.solver.Value(self.x[i, j]), end=\" \")\n",
    "            print()\n",
    "        print()\n",
    "    \n",
    "    def solve(self):\n",
    "        self.solver.Solve(self.model)\n",
    "        self.printgrid()\n",
    "        print(self.solver.ResponseStats())\n",
    "\n",
    "if __name__ == \"__main__\":\n",
    "    x, y, grid = readGrid(\"20x20_1\")\n",
    "    BinarioSolverTest = BinarioSolver(x, y, grid)\n",
    "    BinarioSolverTest.addConstr()\n",
    "    BinarioSolverTest.solve()\n",
    "                "
   ]
  },
  {
   "cell_type": "code",
   "execution_count": null,
   "metadata": {},
   "outputs": [],
   "source": []
  }
 ],
 "metadata": {
  "kernelspec": {
   "display_name": "py310",
   "language": "python",
   "name": "python3"
  },
  "language_info": {
   "codemirror_mode": {
    "name": "ipython",
    "version": 3
   },
   "file_extension": ".py",
   "mimetype": "text/x-python",
   "name": "python",
   "nbconvert_exporter": "python",
   "pygments_lexer": "ipython3",
   "version": "3.10.12"
  }
 },
 "nbformat": 4,
 "nbformat_minor": 2
}
