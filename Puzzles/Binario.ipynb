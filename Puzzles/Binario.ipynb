{
 "cells": [
  {
   "cell_type": "markdown",
   "metadata": {},
   "source": [
    "# Binairo \n",
    "\n",
    "Binairo is played on a rectangular grid with no standard size. Some cells start out filled with black or white circles. The rest of the cells are empty. The goal is to place circles in all cells in such a way that:\n",
    "\n",
    "1. Each row and each column must contain an equal number of white and black circles.\n",
    "\n",
    "2. More than two circles of the same color can't be adjacent.\n",
    "\n",
    "3. Each row and column is unique. \n",
    "\n",
    "[Play On Janko](https://www.janko.at/Raetsel/Tohu-Wa-Vohu/index.htm)\n",
    "\n",
    "---------\n",
    "\n",
    "1. Binairo 在矩形网格上播放，没有标准尺寸。有些单元格开始时充满了黑色或白色的圆圈。其余的单元格是空的。目标是以以下方式在所有单元格中放置圆圈；\n",
    "2. 每行和每列必须包含相同数量的白色和黑色圆圈。\n",
    "3. 两个以上相同颜色的圆圈不能相邻。\n",
    "4. 每一行每一列都是独一无二的。\n",
    "\n",
    "![](https://www.janko.at/Raetsel/Tohu-Wa-Vohu/Regeln-01.gif) ![](https://www.janko.at/Raetsel/Tohu-Wa-Vohu/Regeln-02.gif)"
   ]
  },
  {
   "cell_type": "code",
   "execution_count": 1,
   "metadata": {},
   "outputs": [
    {
     "name": "stdout",
     "output_type": "stream",
     "text": [
      "8 8\n",
      "['-', '2', '2', '-', '-', '-', '-', '-']\n",
      "['-', '-', '-', '-', '1', '-', '-', '2']\n",
      "['-', '-', '1', '-', '1', '1', '-', '-']\n",
      "['-', '-', '-', '-', '-', '1', '1', '-']\n",
      "['-', '-', '1', '-', '-', '-', '-', '-']\n",
      "['-', '2', '-', '-', '-', '-', '-', '1']\n",
      "['-', '-', '-', '1', '2', '1', '-', '2']\n",
      "['1', '-', '-', '-', '1', '1', '-', '-']\n"
     ]
    }
   ],
   "source": [
    "def readGrid(path):\n",
    "    with open(f\"../assets/data/Binairo/problems/{path}.txt\") as f:\n",
    "        num = f.readline()\n",
    "        m, n = num.split(\" \")[0], num.split(\" \")[1]\n",
    "        grid = f.readlines()\n",
    "        res = [g.strip().split(\" \") for g in grid]\n",
    "        return int(m), int(n), res\n",
    "\n",
    "if __name__ == \"__main__\":\n",
    "    m, n, grid = readGrid(\"131_8x8\")\n",
    "    print(m, n)\n",
    "    for g in grid:\n",
    "        print(g)"
   ]
  },
  {
   "cell_type": "code",
   "execution_count": 2,
   "metadata": {},
   "outputs": [
    {
     "name": "stdout",
     "output_type": "stream",
     "text": [
      "1 2 2 1 2 2 1 1 \n",
      "2 1 1 2 1 2 1 2 \n",
      "2 2 1 2 1 1 2 1 \n",
      "1 2 2 1 2 1 1 2 \n",
      "2 1 1 2 1 2 2 1 \n",
      "2 2 1 1 2 2 1 1 \n",
      "1 1 2 1 2 1 2 2 \n",
      "1 1 2 2 1 1 2 2 \n",
      "\n"
     ]
    }
   ],
   "source": [
    "from ortools.sat.python import cp_model as cp\n",
    "class BinarioSolver:\n",
    "    \n",
    "    def __init__(self, X, Y, grid) -> None:\n",
    "        self.X = X\n",
    "        self.Y = Y\n",
    "        self.grid = grid \n",
    "        self.x = {}\n",
    "        self.model = cp.CpModel()\n",
    "        self.solver = cp.CpSolver()\n",
    "        for i in range(self.X):\n",
    "            for j in range(self.Y):\n",
    "                if self.grid[i][j] == \"-\":\n",
    "                    self.x[i, j] = self.model.NewBoolVar(f'x[{i}, {j}]')\n",
    "                elif self.grid[i][j] == \"1\":\n",
    "                    self.x[i, j] = 0\n",
    "                else:\n",
    "                    self.x[i, j] = 1\n",
    "    def addConstr(self):\n",
    "        for i in range(self.X):\n",
    "            for j in range(self.Y - 2):\n",
    "                arr = [self.x[i, y] for y in range(j, j + 3)]\n",
    "                self.model.Add(sum(arr) <= 2)\n",
    "                self.model.Add(sum(arr) >= 1)\n",
    "\n",
    "        for j in range(self.Y):\n",
    "            for i in range(self.X - 2):\n",
    "                arr = [self.x[xx, j] for xx in range(i, i + 3)]\n",
    "                self.model.Add(sum(arr) <= 2)\n",
    "                self.model.Add(sum(arr) >= 1)\n",
    "        \n",
    "        for i in range(self.X):\n",
    "            self.model.Add(sum(self.x[i,j] for j in range(self.Y)) == int(self.Y) // 2)\n",
    "        for j in range(self.Y):\n",
    "            self.model.Add(sum(self.x[i,j] for i in range(self.X)) == int(self.X) // 2)\n",
    "    \n",
    "    def printgrid(self):\n",
    "        for i in range(self.X):\n",
    "            for j in range(self.Y):\n",
    "                if self.grid[i][j] == \"2\":\n",
    "                    print(\"2\", end = \" \")\n",
    "                elif self.grid[i][j] == \"1\":\n",
    "                    print(\"1\", end = \" \")\n",
    "                else:\n",
    "                    if self.solver.Value(self.x[i, j]) > 1e-1:\n",
    "                        print(\"2\", end=\" \")\n",
    "                    else:\n",
    "                        print(\"1\", end=\" \")\n",
    "            print()\n",
    "        print()\n",
    "    \n",
    "    def solve(self):\n",
    "        self.solver.Solve(self.model)\n",
    "        self.printgrid()\n",
    "        # print(self.solver.ResponseStats())\n",
    "\n",
    "if __name__ == \"__main__\":\n",
    "    x, y, grid = readGrid(\"131_8x8\")\n",
    "    BinarioSolverTest = BinarioSolver(x, y, grid)\n",
    "    BinarioSolverTest.addConstr()\n",
    "    BinarioSolverTest.solve()\n",
    "                "
   ]
  },
  {
   "cell_type": "code",
   "execution_count": null,
   "metadata": {},
   "outputs": [],
   "source": []
  }
 ],
 "metadata": {
  "kernelspec": {
   "display_name": "py310_arm",
   "language": "python",
   "name": "python3"
  },
  "language_info": {
   "codemirror_mode": {
    "name": "ipython",
    "version": 3
   },
   "file_extension": ".py",
   "mimetype": "text/x-python",
   "name": "python",
   "nbconvert_exporter": "python",
   "pygments_lexer": "ipython3",
   "version": "3.10.14"
  }
 },
 "nbformat": 4,
 "nbformat_minor": 2
}
