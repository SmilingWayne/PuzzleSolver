{
 "cells": [
  {
   "cell_type": "code",
   "execution_count": 2,
   "metadata": {},
   "outputs": [
    {
     "name": "stdout",
     "output_type": "stream",
     "text": [
      "['-', '2', '2', '3', '-', '-', '2', '2', '2', '-']\n",
      "['-', '4', '-', '-', '4', '4', '-', '-', '2', '-']\n",
      "['2', '-', '-', '-', '5', '-', '5', '4', '2', '2']\n",
      "['-', '-', '3', '3', '4', '-', '4', '2', '-', '2']\n",
      "['-', '2', '-', '3', '5', '-', '3', '2', '3', '3']\n",
      "['2', '3', '2', '3', '-', '3', '1', '-', '4', '-']\n",
      "['1', '-', '1', '4', '-', '5', '1', '4', '-', '-']\n",
      "['3', '4', '2', '3', '-', '3', '-', '-', '-', '4']\n",
      "['-', '3', '-', '-', '4', '5', '-', '-', '3', '-']\n",
      "['-', '3', '1', '3', '-', '-', '1', '1', '2', '-']\n"
     ]
    }
   ],
   "source": [
    "def readGrid(path):\n",
    "    with open(f\"../assets/data/DoubleMinesweeper/problems/{path}.txt\") as f:\n",
    "        num = f.readline()\n",
    "        m, n = num.split(\" \")[0], num.split(\" \")[1]\n",
    "        grid = f.readlines()\n",
    "        res = [g.strip().split(\" \") for g in grid]\n",
    "        return int(m), int(n), res\n",
    "\n",
    "if __name__ == \"__main__\":\n",
    "    m, n, grid = readGrid(\"easy1_10x10\")\n",
    "    for g in grid:\n",
    "        print(g)"
   ]
  },
  {
   "cell_type": "code",
   "execution_count": 8,
   "metadata": {},
   "outputs": [
    {
     "name": "stdout",
     "output_type": "stream",
     "text": [
      "0 2 2 3 b 0 2 2 2 B \n",
      "B 4 0 B 4 4 B 0 2 0 \n",
      "2 0 B 0 5 b 5 4 2 2 \n",
      "0 0 3 3 4 B 4 2 B 2 \n",
      "b 2 b 3 5 b 3 2 3 3 \n",
      "2 3 2 3 B 3 1 0 4 b \n",
      "1 b 1 4 0 5 1 4 B b \n",
      "3 4 2 3 B 3 b 0 b 4 \n",
      "B 3 b 0 4 5 0 b 3 0 \n",
      "0 3 1 3 B 0 1 1 2 b \n",
      "\n"
     ]
    }
   ],
   "source": [
    "from ortools.sat.python import cp_model as cp\n",
    "\n",
    "def doubleminesweeper_solver(m, n, grid):\n",
    "    model = cp.CpModel()\n",
    "    x = dict()\n",
    "    for i in range(m):\n",
    "        for j in range(n):\n",
    "            if grid[i][j] in \"-.*\":\n",
    "                x[i, j, 1] = model.NewBoolVar(f\"x_{i}_{j}_1\")\n",
    "                x[i, j, 2] = model.NewBoolVar(f\"x_{i}_{j}_2\")\n",
    "                model.Add(x[i, j, 1] <= x[i, j, 2])\n",
    "    for i in range(m):\n",
    "        for j in range(n):\n",
    "            ready_list = []\n",
    "            if grid[i][j] not in \"-.*\":\n",
    "                for x_ in range(-1, 2):\n",
    "                    for y_ in range(-1, 2):\n",
    "                        if (i + x_, j + y_, 1) in x:\n",
    "                            ready_list.append(x[i + x_, j + y_, 1])\n",
    "                            ready_list.append(x[i + x_, j + y_, 2])\n",
    "                model.Add(sum(ready_list) == int(grid[i][j]))\n",
    "                \n",
    "    solver = cp.CpSolver()\n",
    "    status = solver.Solve(model)\n",
    "    if status == cp.OPTIMAL:\n",
    "        for i in range(m):\n",
    "            for j in range(n):\n",
    "                if grid[i][j] in \"-.*\":\n",
    "                    if solver.Value(x[i, j, 1]) > 1e-1 and solver.Value(x[i, j, 2]) > 1e-1:\n",
    "                        print(\"B\", end=\" \")\n",
    "                        # 2 bombs\n",
    "                    elif solver.Value(x[i, j, 1]) == 0 and solver.Value(x[i, j, 2]) == 0:\n",
    "                        print(\"0\", end = \" \")\n",
    "                    else:\n",
    "                        print(\"b\", end = \" \")\n",
    "                        # 1 bomb\n",
    "                else:\n",
    "                    print(grid[i][j], end = \" \")\n",
    "            print()\n",
    "        print()\n",
    "                \n",
    "if __name__ == \"__main__\":\n",
    "    m, n, grid = readGrid(\"easy1_10x10\")\n",
    "    doubleminesweeper_solver(m, n, grid)"
   ]
  },
  {
   "cell_type": "markdown",
   "metadata": {},
   "source": []
  }
 ],
 "metadata": {
  "kernelspec": {
   "display_name": "py310_arm",
   "language": "python",
   "name": "python3"
  },
  "language_info": {
   "codemirror_mode": {
    "name": "ipython",
    "version": 3
   },
   "file_extension": ".py",
   "mimetype": "text/x-python",
   "name": "python",
   "nbconvert_exporter": "python",
   "pygments_lexer": "ipython3",
   "version": "3.10.14"
  }
 },
 "nbformat": 4,
 "nbformat_minor": 2
}
