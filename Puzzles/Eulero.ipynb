{
 "cells": [
  {
   "cell_type": "markdown",
   "metadata": {},
   "source": [
    "# Eulero\n",
    "\n",
    "- Eulero (\"Graeco-Latin Square\", \"Euler Square\") is a puzzle with letters and digits. The goal is to fill in the grid with symbols according to the following rules:\n",
    "\n",
    "- Each cell contains one letter and one digit.\n",
    "- Every row and every column contains each letter and each digit exactly once.\n",
    "- No two cells contain the same pair of symbols."
   ]
  },
  {
   "cell_type": "code",
   "execution_count": 22,
   "metadata": {},
   "outputs": [
    {
     "name": "stdout",
     "output_type": "stream",
     "text": [
      "5 5\n",
      "5 5\n",
      "[['00', '01', '00', '00', '00'], ['10', '00', '00', '00', '04'], ['00', '00', '00', '20', '00'], ['00', '50', '01', '33', '40'], ['00', '00', '00', '00', '02']]\n"
     ]
    }
   ],
   "source": [
    "def readGrid(path):\n",
    "    with open(f\"../assets/data/Eulero/{path}.txt\") as f:\n",
    "        num = f.readline()\n",
    "        m, n = num.split(\" \")[0], num.split(\" \")[1]\n",
    "        grid = f.readlines()\n",
    "        res = [g.strip().split(\" \") for g in grid]\n",
    "        return int(m), int(n), res\n",
    "\n",
    "if __name__ == \"__main__\":\n",
    "    m, n, grid = readGrid(\"problems/26_5x5\")\n",
    "    print(m, n)\n",
    "    print(len(grid), len(grid[0]))\n",
    "    print(grid)\n",
    "    "
   ]
  },
  {
   "cell_type": "code",
   "execution_count": 24,
   "metadata": {},
   "outputs": [
    {
     "name": "stdout",
     "output_type": "stream",
     "text": [
      "34 21 55 42 13 \n",
      "15 43 32 51 24 \n",
      "53 12 44 25 31 \n",
      "22 54 11 33 45 \n",
      "41 35 23 14 52 \n"
     ]
    }
   ],
   "source": [
    "import numpy as np\n",
    "from ortools.sat.python import cp_model as cp\n",
    "import matplotlib.pyplot as plt\n",
    "from matplotlib.patches import Rectangle\n",
    "from matplotlib.pyplot import MultipleLocator\n",
    "\n",
    "def eulero_solver(X, Y, grid):\n",
    "    model = cp.CpModel()\n",
    "    solver = cp.CpSolver()\n",
    "    x = {}\n",
    "    y = {}\n",
    "    model = cp.CpModel()\n",
    "    solver = cp.CpSolver()\n",
    "    for i in range(X):\n",
    "        for j in range(Y):\n",
    "            x[0, i, j] = model.NewIntVar(1, X, f\"x_0_{i}_{j}\")\n",
    "            x[1, i, j] = model.NewIntVar(1, X, f\"x_1_{i}_{j}\")\n",
    "    for i in range(X):\n",
    "        for j in range(Y):\n",
    "            nums = list(grid[i][j])\n",
    "            a_, b_ = int(nums[0]), int(nums[1])\n",
    "            if a_ != 0:\n",
    "                model.Add(x[0, i, j] == a_)\n",
    "            if b_ != 0:\n",
    "                model.Add(x[1, i, j] == b_)\n",
    "    \n",
    "    for i in range(X):\n",
    "        rows1 = [x[0, i, j] for j in range(Y)]\n",
    "        rows2 = [x[1, i, j] for j in range(Y)]\n",
    "        model.AddAllDifferent(rows1)\n",
    "        model.AddAllDifferent(rows2)\n",
    "    \n",
    "    for j in range(Y):\n",
    "        cols1 = [x[0, i, j] for i in range(Y)]\n",
    "        cols2 = [x[1, i, j] for i in range(Y)]\n",
    "        model.AddAllDifferent(cols1)\n",
    "        model.AddAllDifferent(cols2)\n",
    "\n",
    "    uniqueness = []\n",
    "    for i in range(X):\n",
    "        for j in range(Y):\n",
    "            y[i, j] = model.NewIntVar(( X + 2), (X + 1) * (Y + 1), f\"y_{i}_{j}\")\n",
    "            model.Add(y[i, j] == x[0, i, j] * (X + 1) + x[1, i, j])\n",
    "            uniqueness.append(y[i, j])\n",
    "    \n",
    "    model.AddAllDifferent(uniqueness)\n",
    "    status = solver.Solve(model)\n",
    "    if status == cp.OPTIMAL:\n",
    "        for i in range(X):\n",
    "            for j in range(Y):\n",
    "                print(f\"{solver.Value(x[0, i, j])}{solver.Value(x[1, i, j])}\", end=\" \")\n",
    "            print()\n",
    "    else:\n",
    "        print(\"NOT FOUND!\")\n",
    "        \n",
    "if __name__ == \"__main__\":\n",
    "    m, n, grid = readGrid(\"problems/26_5x5\")\n",
    "    eulero_solver(m, n, grid)\n",
    "\n",
    "# 55 12 33 24 41\n",
    "# 34 43 15 51 22\n",
    "# 42 54 21 13 35\n",
    "# 23 31 52 45 14\n",
    "# 11 25 44 32 53"
   ]
  },
  {
   "cell_type": "code",
   "execution_count": null,
   "metadata": {},
   "outputs": [],
   "source": []
  }
 ],
 "metadata": {
  "kernelspec": {
   "display_name": "py310_arm",
   "language": "python",
   "name": "python3"
  },
  "language_info": {
   "codemirror_mode": {
    "name": "ipython",
    "version": 3
   },
   "file_extension": ".py",
   "mimetype": "text/x-python",
   "name": "python",
   "nbconvert_exporter": "python",
   "pygments_lexer": "ipython3",
   "version": "3.10.14"
  }
 },
 "nbformat": 4,
 "nbformat_minor": 2
}
