{
 "cells": [
  {
   "cell_type": "markdown",
   "metadata": {},
   "source": [
    "# Gappy\n",
    "\n",
    "Gappy (\"Gaps\") is played on a square grid. The aim is to blacken some cells of a grid according to the following rules:\n",
    "\n",
    "Each row and each column contains two black cells.\n",
    "\n",
    "No black cells touch each other, not even diagonally.\n",
    "\n",
    "Numbers outside the grid show the number of white cells between black cells in corresponding row or column.\n",
    "\n",
    "- 逻辑游戏 Gappy （“Gops”）的玩法是根据以下规则将网格的某些单元格变黑：\n",
    "\n",
    "1. 每行和每列包含两个黑色单元格。\n",
    "\n",
    "2. 没有黑色单元格相互接触，甚至没有对角线接触。\n",
    "\n",
    "3. 网格外的数字显示相应行或列中黑色单元格之间的白色单元格数。"
   ]
  },
  {
   "cell_type": "markdown",
   "metadata": {},
   "source": []
  }
 ],
 "metadata": {
  "language_info": {
   "name": "python"
  }
 },
 "nbformat": 4,
 "nbformat_minor": 2
}
