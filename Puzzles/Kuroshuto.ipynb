{
 "cells": [
  {
   "cell_type": "code",
   "execution_count": 1,
   "metadata": {},
   "outputs": [],
   "source": [
    "from collections import deque\n",
    "from itertools import chain\n",
    "# ===== vsualzie ===== \n",
    "import matplotlib.pyplot as plt\n",
    "from matplotlib.patches import Rectangle, Circle\n",
    "from matplotlib.pyplot import MultipleLocator\n"
   ]
  },
  {
   "cell_type": "code",
   "execution_count": 2,
   "metadata": {},
   "outputs": [
    {
     "name": "stdout",
     "output_type": "stream",
     "text": [
      "['-', '-', '-', '-', '1', '-', '5', '1', '-', '-', '-', '-']\n",
      "['4', '-', '-', '-', '5', '2', '-', '-', '-', '-', '-', '-']\n",
      "['-', '-', '1', '-', '-', '-', '-', '2', '-', '-', '-', '-']\n",
      "['-', '2', '-', '5', '-', '5', '-', '4', '4', '-', '-', '-']\n",
      "['4', '-', '-', '5', '-', '-', '-', '-', '-', '-', '1', '-']\n",
      "['-', '3', '-', '5', '2', '-', '2', '2', '-', '-', '-', '4']\n",
      "['-', '-', '-', '-', '2', '4', '-', '-', '-', '-', '-', '8']\n",
      "['-', '1', '-', '-', '4', '5', '-', '2', '1', '-', '2', '-']\n",
      "['5', '-', '4', '-', '-', '-', '1', '2', '6', '5', '-', '3']\n",
      "['-', '-', '-', '-', '-', '5', '-', '7', '4', '3', '-', '-']\n",
      "['-', '-', '-', '1', '2', '-', '-', '-', '-', '-', '-', '-']\n",
      "['1', '-', '-', '-', '-', '-', '-', '2', '2', '-', '3', '-']\n"
     ]
    }
   ],
   "source": [
    "def readGrid(path):\n",
    "    with open(f\"../assets/data/Kuroshuto/{path}.txt\") as f:\n",
    "        num = f.readline()\n",
    "        m, n = num.split(\" \")[0], num.split(\" \")[1]\n",
    "        grid = f.readlines()\n",
    "        res = [g.strip().split(\" \") for g in grid]\n",
    "        return int(m), int(n), res\n",
    "\n",
    "if __name__ == \"__main__\":\n",
    "    m, n, grid = readGrid(\"problems/13_12x12\")\n",
    "    \n",
    "    for g in grid:\n",
    "        print(g)"
   ]
  },
  {
   "cell_type": "code",
   "execution_count": null,
   "metadata": {},
   "outputs": [
    {
     "name": "stdout",
     "output_type": "stream",
     "text": [
      "X O O X 1 O 5 1 O O O X \n",
      "4 X X O 5 2 O X O X O O \n",
      "O O 1 O O X O 2 X O O O \n",
      "X 2 O 5 X 5 X 4 4 X O X \n",
      "4 O X 5 O O O O X O 1 O \n",
      "X 3 O 5 2 O 2 2 O X X 4 \n",
      "O O X X 2 4 O X O O O 8 \n",
      "O 1 O O 4 5 O 2 1 X 2 O \n",
      "5 X 4 X O O 1 2 6 5 X 3 \n",
      "X O O O X 5 X 7 4 3 O X \n",
      "O O O 1 2 O X O O O O O \n",
      "1 X O X O O X 2 2 X 3 X \n",
      "\n",
      "NumConflicts: 0\n",
      "NumBranches: 0\n",
      "WallTime: 0.010576\n"
     ]
    }
   ],
   "source": [
    "from ortools.sat.python import cp_model as cp\n",
    "def kuroshuto_solver(grid, X, Y):\n",
    "    model = cp.CpModel()\n",
    "    x = {}\n",
    "    for i in range(X):\n",
    "        for j in range(Y):\n",
    "            if grid[i][j] in [\"-\"]:\n",
    "                x[i, j] = model.NewBoolVar(name = f\"x[{i}, {j}]\")\n",
    "            else:\n",
    "                x[i, j] = 0\n",
    "    for i in range(X):\n",
    "        for j in range(Y):\n",
    "            cand_pos = [] \n",
    "            if grid[i][j] in \"0123456789\":\n",
    "                dist = int(grid[i][j])\n",
    "                if i - dist >= 0 and grid[i - dist][j] not in \"0123456789\":\n",
    "                    cand_pos.append((i - dist, j))\n",
    "                if j - dist >= 0 and grid[i][j - dist] not in \"0123456789\":\n",
    "                    cand_pos.append((i, j - dist))\n",
    "                if i + dist < X and grid[i + dist][j] not in \"0123456789\":\n",
    "                    cand_pos.append((i + dist, j))\n",
    "                if j + dist < Y and grid[i][j + dist] not in \"0123456789\":\n",
    "                    cand_pos.append((i, j + dist))\n",
    "                \n",
    "                model.Add(sum([x[p] for p in cand_pos]) == 1)\n",
    "    \n",
    "    solver = cp.CpSolver()\n",
    "    status = solver.Solve(model)\n",
    "    if status == cp.OPTIMAL:\n",
    "        for i in range(X):\n",
    "            for j in range(Y):\n",
    "                if grid[i][j] not in \"0123456789\":\n",
    "                    if solver.Value(x[i, j]) > 1e-1:\n",
    "                        print(\"X\", end=\" \")\n",
    "                    else:\n",
    "                        print(\"O\", end=\" \")\n",
    "                else:\n",
    "                    print(grid[i][j], end=\" \")\n",
    "            print()\n",
    "        print()\n",
    "\n",
    "        print(\"NumConflicts:\", solver.NumConflicts())\n",
    "        print(\"NumBranches:\", solver.NumBranches())\n",
    "        print(\"WallTime:\", solver.WallTime())\n",
    "    else:\n",
    "        print(\"Something Wrong!\")\n",
    "if __name__ == \"__main__\":\n",
    "    m, n, grid = readGrid(\"problems/13_12x12\")\n",
    "    kuroshuto_solver(grid, m, n)\n",
    "    \n",
    "# x - - x - - - - - - - x\n",
    "# - x - - - - - x - x - -\n",
    "# - - - x - x - - x - - -\n",
    "# x - - - x - x - - x - x\n",
    "# - - x - - - - - x - - -\n",
    "# x - - - - x - - - - x -\n",
    "# - - - x - - x - - - - -\n",
    "# - - - - - - - - - x - -\n",
    "# - x - x - - - - - - x -\n",
    "# x - - - x - x - - - - x\n",
    "# - - x - - - - x - - - -\n",
    "# - x - - - - x - - x - x"
   ]
  },
  {
   "cell_type": "code",
   "execution_count": null,
   "metadata": {},
   "outputs": [],
   "source": []
  }
 ],
 "metadata": {
  "kernelspec": {
   "display_name": "py310_arm",
   "language": "python",
   "name": "python3"
  },
  "language_info": {
   "codemirror_mode": {
    "name": "ipython",
    "version": 3
   },
   "file_extension": ".py",
   "mimetype": "text/x-python",
   "name": "python",
   "nbconvert_exporter": "python",
   "pygments_lexer": "ipython3",
   "version": "3.10.14"
  }
 },
 "nbformat": 4,
 "nbformat_minor": 2
}
