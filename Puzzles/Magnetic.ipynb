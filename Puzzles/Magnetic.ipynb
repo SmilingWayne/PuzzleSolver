{
 "cells": [
  {
   "cell_type": "markdown",
   "metadata": {},
   "source": [
    "# Magnetic\n",
    "\n",
    "- Some magnetic and some neutral dominos are put together to a rectangle.\n",
    "- Each magnetic domino has two poles, one positive pole (+) and one negative pole (–). Each neutral domino has two neutral poles (x).\n",
    "- Two positive or two negative poles cannot touch orthogonally.\n",
    "- A number on the edge of the grid indicates how many positive (+) and negative (–) poles are in the corresponding row or column.\n",
    "- Your task is to label the dominos!"
   ]
  }
 ],
 "metadata": {
  "language_info": {
   "name": "python"
  }
 },
 "nbformat": 4,
 "nbformat_minor": 2
}
