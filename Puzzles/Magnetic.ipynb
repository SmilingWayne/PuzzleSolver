{
 "cells": [
  {
   "cell_type": "markdown",
   "metadata": {},
   "source": [
    "# Magnetic\n",
    "\n",
    "- Some magnetic and some neutral dominos are put together to a rectangle.\n",
    "- Each magnetic domino has two poles, one positive pole (+) and one negative pole (–). Each neutral domino has two neutral poles (x).\n",
    "- Two positive or two negative poles cannot touch orthogonally.\n",
    "- A number on the edge of the grid indicates how many positive (+) and negative (–) poles are in the corresponding row or column.\n",
    "- Your task is to label the dominos!"
   ]
  },
  {
   "cell_type": "code",
   "execution_count": null,
   "metadata": {},
   "outputs": [
    {
     "name": "stdout",
     "output_type": "stream",
     "text": [
      "[4, 4, 5, 4, 4, 5, 5, 4, 5, 5, 3, 6]\n",
      "[5, 5, 5, 4, 2, 5, 4, 5, 5, 6, 3, 5]\n",
      "[5, 4, 4, 4, 4, 6, 6, 2, 5, 4, 6, 4]\n",
      "[4, 6, 3, 5, 4, 5, 4, 5, 3, 5, 4, 6]\n"
     ]
    }
   ],
   "source": [
    "def readGrid(path):\n",
    "    with open(f\"../assets/data/Magnetic/problems/{path}.txt\") as f:\n",
    "        num = f.readline()\n",
    "        m, n = num.split(\" \")[0], num.split(\" \")[1]\n",
    "        c_pos = list(map(int,f.readline().strip().split(\" \"))) \n",
    "        c_neg = list(map(int,f.readline().strip().split(\" \"))) \n",
    "        r_pos = list(map(int,f.readline().strip().split(\" \"))) \n",
    "        r_neg = list(map(int,f.readline().strip().split(\" \"))) \n",
    "        nums = [c_pos, c_neg, r_pos, r_neg]\n",
    "        grid = f.readlines()\n",
    "        res = [g.strip().split(\" \") for g in grid]\n",
    "        for idx, g in enumerate(res):\n",
    "            res[idx] = list(map(str, g))\n",
    "        return int(m), int(n), nums, res\n",
    "\n",
    "if __name__ == \"__main__\":\n",
    "    m, n, nums, grid = readGrid(\"5_12x12\")\n",
    "    # print(grid)\n",
    "    # print(nums)\n",
    "    for num in nums:\n",
    "        print(num)\n",
    "\n",
    "    "
   ]
  },
  {
   "cell_type": "code",
   "execution_count": 15,
   "metadata": {},
   "outputs": [
    {
     "name": "stdout",
     "output_type": "stream",
     "text": [
      "+ - + - + - + - * * * + \n",
      "- * - + - + - + * - + - \n",
      "* * * * + - + * - + - + \n",
      "* - + - * + - * + - + - \n",
      "- + - + * * * * - + - + \n",
      "+ - + - + * + - + - + - \n",
      "- + - + * + - + - + * + \n",
      "+ - * * * - * - + - * - \n",
      "* * + - * + * + - + - + \n",
      "- + - + * - + - + - * * \n",
      "+ - + * - + - + - + * + \n",
      "- + - * + - + - + - * - \n"
     ]
    }
   ],
   "source": [
    "from ortools.sat.python import cp_model as cp\n",
    "\n",
    "def MagneticSolver(m, n, nums, grid):\n",
    "    model = cp.CpModel()\n",
    "    x = dict()\n",
    "    mag_loc_dict = dict()\n",
    "    get_opposite = dict()\n",
    "    for i in range(m):\n",
    "        for j in range(n):\n",
    "            if grid[i][j] not in mag_loc_dict:\n",
    "                mag_loc_dict[grid[i][j]] = [[i,j]]\n",
    "            else:\n",
    "                mag_loc_dict[grid[i][j]].append([i,j])\n",
    "            x[i, j, 1] = model.NewBoolVar(name = f\"x[{i},{j},0]\") \n",
    "            # 表示正极\n",
    "            x[i, j, 2] = model.NewBoolVar(name = f\"x[{i},{j},1]\")\n",
    "            # 表示负极\n",
    "            x[i, j, 3] = model.NewBoolVar(name = f\"x[{i},{j},2]\")\n",
    "            # 表示中性\n",
    "    for k, v in mag_loc_dict.items():\n",
    "        pos1, pos2 = v[0], v[1]\n",
    "        get_opposite[pos1[0], pos1[1]] = pos2\n",
    "        get_opposite[pos2[0], pos2[1]] = pos1\n",
    "    \n",
    "    # 约束格点数量\n",
    "    c_pos = nums[0]\n",
    "    c_neg = nums[1]\n",
    "    r_pos = nums[2]\n",
    "    r_neg = nums[3]\n",
    "    \n",
    "    for idx, num in enumerate(c_pos):\n",
    "        model.Add(sum(x[i, idx, 1] for i in range(m)) == num)\n",
    "    for idx, num in enumerate(c_neg):\n",
    "        model.Add(sum(x[i, idx, 2] for i in range(m)) == num)\n",
    "    for idx, num in enumerate(r_pos):\n",
    "        model.Add(sum(x[idx, i, 1] for i in range(n)) == num)\n",
    "    for idx, num in enumerate(r_neg):\n",
    "        model.Add(sum(x[idx, i, 2] for i in range(n)) == num)\n",
    "    \n",
    "    # 约束每个格点只有一个状态\n",
    "    for i in range(m):\n",
    "        for j in range(n):\n",
    "            model.Add(sum(x[i, j, k] for k in range(1, 4)) == 1)\n",
    "    \n",
    "    # 限制: 如果一个是中性, 另一个也是中性\n",
    "    for i in range(m):\n",
    "        for j in range(n):\n",
    "            new_i, new_j = get_opposite[i, j][0], get_opposite[i, j][1]\n",
    "            model.AddImplication(x[i, j, 3], x[new_i, new_j, 3])\n",
    "            model.AddImplication(x[i, j, 1], x[new_i, new_j, 2])\n",
    "            model.AddImplication(x[i, j, 2], x[new_i, new_j, 1])\n",
    "            \n",
    "            directions = [(1,0), (-1,0),(0,1),(0,-1)]\n",
    "            for d_x, d_y in directions:\n",
    "                if i + d_x >= 0 and i + d_x < m and j + d_y >= 0 and j + d_y < n:\n",
    "                    if i + d_x != new_i or j + d_y != new_j:\n",
    "                        # 说明不是邻居\n",
    "                        # print(i, j, i + d_x, j + d_y)\n",
    "                        # pass\n",
    "                        model.AddBoolOr([x[i, j, 2].Not(), x[i + d_x, j + d_y, 2].Not()])\n",
    "\n",
    "                        model.AddBoolOr([x[i, j, 1].Not(), x[i + d_x, j + d_y, 1].Not()])\n",
    "                    \n",
    "    solver = cp.CpSolver()\n",
    "    status = solver.Solve(model)\n",
    "    if status == cp.OPTIMAL:\n",
    "        for i in range(m):\n",
    "            for j in range(n):\n",
    "                if solver.Value(x[i, j, 1]) == 1:\n",
    "                    print(\"+\", end = \" \")\n",
    "                elif solver.Value(x[i, j, 2]) == 1:\n",
    "                    print(\"-\", end = \" \")\n",
    "                else:\n",
    "                    print(\"*\", end = \" \")\n",
    "            print()\n",
    "    else:\n",
    "        print(\"OK!\")\n",
    "    \n",
    "\n",
    "if __name__ == \"__main__\":\n",
    "    m, n, nums, grid = readGrid(\"5_12x12\")\n",
    "    MagneticSolver(m, n, nums, grid)"
   ]
  },
  {
   "cell_type": "code",
   "execution_count": null,
   "metadata": {},
   "outputs": [],
   "source": []
  }
 ],
 "metadata": {
  "kernelspec": {
   "display_name": "py310_arm",
   "language": "python",
   "name": "python3"
  },
  "language_info": {
   "codemirror_mode": {
    "name": "ipython",
    "version": 3
   },
   "file_extension": ".py",
   "mimetype": "text/x-python",
   "name": "python",
   "nbconvert_exporter": "python",
   "pygments_lexer": "ipython3",
   "version": "3.10.14"
  }
 },
 "nbformat": 4,
 "nbformat_minor": 2
}
