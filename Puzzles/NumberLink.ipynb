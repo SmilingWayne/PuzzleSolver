{
 "cells": [
  {
   "cell_type": "markdown",
   "metadata": {},
   "source": [
    "# Number Link（数链）\n",
    "\n",
    "- 用一条连续的线把相同的数字连接起来；\n",
    "- 线只能从上下左右四个方向穿过图案，不能两次经过同一个格子；\n",
    "- 线不能分支、不能交叉、不能经过数字格；\n",
    "\n",
    "\n",
    "----------------\n",
    "\n",
    "- Connect pairs of the same numbers with a continuous line.\n",
    "- Lines go through the center of the cells, horizontally, vertically, or changing direction, and never twice through the same cell.\n",
    "- Lines cannot cross, branch off, or go through the cells with numbers.\n",
    "\n",
    "-------\n",
    "\n",
    "REF: [Link](https://github.com/uguryavuz/numberlink-solver)"
   ]
  },
  {
   "cell_type": "code",
   "execution_count": 1,
   "metadata": {},
   "outputs": [
    {
     "name": "stdout",
     "output_type": "stream",
     "text": [
      "1 5 5 5 7 7 7 7 6 6 \n",
      "1 5 5 5 3 3 7 7 6 6 \n",
      "1 3 3 3 3 3 3 3 1 1 \n",
      "1 3 3 7 7 3 3 3 1 1 \n",
      "1 1 1 7 7 1 1 1 1 1 \n",
      "1 1 1 7 2 1 1 3 3 3 \n",
      "4 4 5 5 2 2 2 3 3 3 \n",
      "4 4 5 5 5 5 2 2 2 2 \n",
      "6 6 6 1 1 5 4 4 2 2 \n",
      "6 6 6 1 1 5 4 4 2 2 \n",
      "\n",
      "NumConflicts: 0\n",
      "NumBranches: 676\n",
      "WallTime: 0.028379\n"
     ]
    }
   ],
   "source": [
    "from ortools.sat.python import cp_model as cp\n",
    "\n",
    "def numberlink_solver(grid_ipt , X, Y):\n",
    "    \n",
    "    grid = grid_ipt.split(\",\")\n",
    "    try:\n",
    "        len(grid) == X * Y\n",
    "    except Exception:\n",
    "        raise(f\"检查输入棋盘的长度： length of grid != {X} * {Y}\")\n",
    "\n",
    "    ods = max(map(int, grid))\n",
    "    model = cp.CpModel()\n",
    "    x = {}\n",
    "    y = {}\n",
    "    # 表示每个格子属于第几个线路\n",
    "\n",
    "    for i in range(Y):\n",
    "        for j in range(X):\n",
    "            if grid[i * X + j] == \"0\":\n",
    "                y[i, j] = model.NewIntVar(1, ods, name = f\"y[{i}, {j}]\")\n",
    "            else:\n",
    "                y[i, j] = int(grid[i * X + j])\n",
    "            \n",
    "            if i + 1 < Y:\n",
    "                x[i, j , 1, 0] = model.NewBoolVar(name = f\"x[{i}, {j}, 1, 0]\")\n",
    "            else:\n",
    "                x[i, j , 1, 0] = 0\n",
    "            \n",
    "            if i - 1 >= 0:\n",
    "                x[i, j , -1, 0] = model.NewBoolVar(name = f\"x[{i}, {j}, -1, 0]\")\n",
    "            else:\n",
    "                x[i, j , -1, 0] = 0\n",
    "                \n",
    "            if j + 1 < X:\n",
    "                x[i, j , 0, 1] = model.NewBoolVar(name = f\"x[{i}, {j}, 0, 1]\")\n",
    "            else:\n",
    "                x[i, j , 0, 1] = 0\n",
    "            \n",
    "            if j - 1 >= 0:\n",
    "                x[i, j , 0, -1] = model.NewBoolVar(name = f\"x[{i}, {j}, 0, -1]\")\n",
    "            else:\n",
    "                x[i, j , 0, -1] = 0\n",
    "            \n",
    "            if grid[i * X + j] != \"0\":\n",
    "                model.Add(x[i, j , 1, 0] + x[i, j , -1, 0] + x[i, j ,0 , -1] + x[i, j , 0, 1] == 1)\n",
    "            else:\n",
    "                model.Add(x[i, j , 1, 0] + x[i, j , -1, 0] + x[i, j ,0 , -1] + x[i, j , 0, 1] == 2)\n",
    "    \n",
    "    for i in range(Y):\n",
    "        for j in range(X):\n",
    "            if j - 1 >= 0:\n",
    "                model.Add(y[i, j] == y[i, j - 1]).OnlyEnforceIf(x[i, j , 0, -1])\n",
    "            if j + 1 < X:\n",
    "                model.Add(y[i, j] == y[i, j + 1]).OnlyEnforceIf(x[i, j , 0,  1])\n",
    "            if i + 1 < Y:\n",
    "                model.Add(y[i, j] == y[i + 1, j]).OnlyEnforceIf(x[i, j , 1, 0])\n",
    "            if i - 1 >= 0:\n",
    "                model.Add(y[i, j] == y[i - 1, j]).OnlyEnforceIf(x[i, j , -1, 0])\n",
    "\n",
    "    \n",
    "    solver = cp.CpSolver()\n",
    "    status = solver.Solve(model)\n",
    "\n",
    "    if status == cp.OPTIMAL:\n",
    "        for i in range(Y):\n",
    "            for j in range(X):\n",
    "                print(solver.Value(y[i, j]), end = \" \")\n",
    "            print()\n",
    "        print()\n",
    "        print(\"NumConflicts:\", solver.NumConflicts())\n",
    "        print(\"NumBranches:\", solver.NumBranches())\n",
    "        print(\"WallTime:\", solver.WallTime())\n",
    "\n",
    "    else:\n",
    "        print(\"Unable to find the OPTIMAL.\")\n",
    "\n",
    "if __name__ == \"__main__\":\n",
    "    grid = \"0,11,4,0,0,0,0,0,0,0,0,2,0,0,0,0,0,0,0,0,0,0,0,0,0,0,0,10,0,0,0,2,0,0,0,0,9,0,0,1,0,11,0,0,3,0,10,9,0,3,0,0,0,0,0,0,0,0,0,0,0,7,0,0,7,0,0,0,0,0,0,0,0,0,5,0,0,8,6,0,0,0,6,0,0,0,8,1,0,0,4,0,0,0,0,0,0,0,0,5\"\n",
    "    grid = \"1,0,0,0,7,0,0,0,0,0,0,0,5,0,0,0,0,0,6,0,0,0,0,0,3,0,0,0,0,0,0,0,0,0,0,0,0,0,0,0,0,0,0,0,0,0,0,0,0,0,0,0,1,7,2,0,0,0,0,0,0,0,0,0,0,0,0,3,0,0,0,4,0,0,0,0,0,0,0,0,0,6,0,0,0,0,0,4,0,0,0,0,0,0,0,5,0,0,0,2\"\n",
    "    numberlink_solver(grid, 10, 10)"
   ]
  },
  {
   "cell_type": "code",
   "execution_count": null,
   "metadata": {},
   "outputs": [],
   "source": [
    "\"1,-,-,-,7,-,-,-,-,-,-,-,5,-,-,-,-,-,6,-,-,-,-,-,3,-,-,-,-,-,-,-,-,-,-,-,-,-,-,-,-,-,-,-,-,-,-,-,-,-,-,-,1,7,2,-,-,-,-,-,-,-,-,-,-,-,-,3,-,-,-,4,-,-,-,-,-,-,-,-,-,6,-,-,-,-,-,4,-,-,-,-,-,-,-,5,-,-,-,2\""
   ]
  },
  {
   "cell_type": "markdown",
   "metadata": {},
   "source": [
    "\n",
    "![](../assets/figures/NumberLink.png)\n",
    "\n",
    "![](../assets/figures/NumberLink1.png)"
   ]
  },
  {
   "cell_type": "markdown",
   "metadata": {},
   "source": []
  }
 ],
 "metadata": {
  "kernelspec": {
   "display_name": "py310_arm",
   "language": "python",
   "name": "python3"
  },
  "language_info": {
   "codemirror_mode": {
    "name": "ipython",
    "version": 3
   },
   "file_extension": ".py",
   "mimetype": "text/x-python",
   "name": "python",
   "nbconvert_exporter": "python",
   "pygments_lexer": "ipython3",
   "version": "3.10.14"
  }
 },
 "nbformat": 4,
 "nbformat_minor": 2
}
