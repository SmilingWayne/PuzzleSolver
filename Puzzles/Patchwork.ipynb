{
 "cells": [
  {
   "cell_type": "markdown",
   "metadata": {},
   "source": [
    "# Patchwork\n",
    "\n",
    "Patchwork (also known as \"Tatami\") consists of a square grid divided into regions (\"rooms\"). Each room must be filled with each of the digits from 1 to the number of cells in the room. Every row and every column must contain the same amount of each digit. Same digits must not be orthogonally adjacent.\n",
    "\n",
    "------\n",
    "\n",
    "1. 在网格的每个单元格中输入一个数字，以便大小为 N 的每个区域正好包含一次从 1 到 N 的所有数字。\n",
    "2. 相同的数字不得正交相邻。\n",
    "3. 一行或一列中的所有数字必须以相同的频率出现。"
   ]
  },
  {
   "cell_type": "code",
   "execution_count": 2,
   "metadata": {},
   "outputs": [
    {
     "name": "stdout",
     "output_type": "stream",
     "text": [
      "['.', '.', '.', '.', '4', '.', '.', '4']\n",
      "['1', '.', '.', '1', '.', '.', '.', '.']\n",
      "['.', '.', '4', '.', '2', '.', '.', '.']\n",
      "['.', '.', '.', '.', '.', '.', '.', '.']\n",
      "['.', '.', '2', '.', '.', '.', '.', '.']\n",
      "['.', '.', '.', '.', '.', '.', '.', '.']\n",
      "['1', '.', '.', '.', '2', '.', '.', '.']\n",
      "['.', '.', '.', '.', '.', '.', '.', '4']\n",
      "['A', 'B', 'C', 'C', 'C', 'C', 'D', 'E']\n",
      "['A', 'B', 'F', 'G', 'H', 'I', 'D', 'E']\n",
      "['A', 'B', 'F', 'G', 'H', 'I', 'D', 'E']\n",
      "['A', 'B', 'F', 'G', 'H', 'I', 'D', 'E']\n",
      "['J', 'K', 'F', 'G', 'H', 'I', 'L', 'M']\n",
      "['J', 'K', 'N', 'N', 'N', 'N', 'L', 'M']\n",
      "['J', 'K', 'O', 'O', 'O', 'O', 'L', 'M']\n",
      "['J', 'K', 'P', 'P', 'P', 'P', 'L', 'M']\n"
     ]
    }
   ],
   "source": [
    "def readGrid(path):\n",
    "    with open(f\"../assets/data/Patchwork/{path}.txt\") as f:\n",
    "        num = f.readline()\n",
    "        m, n = int(num.split(\" \")[0]), int(num.split(\" \")[1])\n",
    "        grid = []\n",
    "        cells = []\n",
    "        for _ in range(m):\n",
    "            grid.append(f.readline().strip().split(\" \"))\n",
    "        f.readline()\n",
    "        for _ in range(m):\n",
    "            cells.append(f.readline().strip().split(\" \"))\n",
    "                         \n",
    "        return m, n, grid, cells\n",
    "\n",
    "if __name__ == \"__main__\":\n",
    "    m, n, grid, cells = readGrid(\"8x8_1\")\n",
    "    for g in grid:\n",
    "        print(g)\n",
    "    for c in cells:\n",
    "        print(c)"
   ]
  },
  {
   "cell_type": "code",
   "execution_count": 11,
   "metadata": {},
   "outputs": [
    {
     "name": "stdout",
     "output_type": "stream",
     "text": [
      "3 2 1 2 4 3 1 4 \n",
      "1 4 3 1 3 2 4 2 \n",
      "2 1 4 3 2 4 3 1 \n",
      "4 3 1 2 4 1 2 3 \n",
      "3 1 2 4 1 3 4 2 \n",
      "4 2 4 1 3 2 3 1 \n",
      "1 4 3 4 2 1 2 3 \n",
      "2 3 2 3 1 4 1 4 \n",
      "\n"
     ]
    }
   ],
   "source": [
    "from ortools.sat.python import cp_model as cp\n",
    "class PatchworkSolver:\n",
    "    \n",
    "    def __init__(self, grid, cells, X, Y):\n",
    "        self.grid , self.cells, self.X, self.Y = grid, cells, X, Y \n",
    "        self.x = {}\n",
    "        self.model = cp.CpModel()\n",
    "        self.solver = cp.CpSolver()\n",
    "        self.cell_dict = dict()\n",
    "    \n",
    "    def solve(self):\n",
    "        self.cell_size = 0\n",
    "        for i in range(self.X):\n",
    "            for j in range(self.Y):\n",
    "                if self.cells[i][j] not in self.cell_dict:\n",
    "                    self.cell_dict[self.cells[i][j]] = [(i, j)]\n",
    "                else:\n",
    "                    self.cell_dict[self.cells[i][j]].append((i, j))\n",
    "        for i in range(self.X):\n",
    "            for j in range(self.Y):\n",
    "                self.cell_size = max(self.cell_size, len(self.cell_dict[self.cells[i][j]]))\n",
    "                for k in range(len(self.cell_dict[self.cells[i][j]])):\n",
    "                    self.x[i, j, k + 1] = self.model.NewBoolVar(f\"x[{i}_{j}_{k + 1}]\")\n",
    "        \n",
    "        for i in range(self.X):\n",
    "            for j in range(self.Y):\n",
    "                self.model.Add(sum(self.x[i, j , k] for k in range(1, self.cell_size + 1)) == 1)\n",
    "                if self.grid[i][j] != \".\":\n",
    "                    self.model.Add(self.x[i, j , int(self.grid[i][j])] == 1)\n",
    "        \n",
    "        for k, v in self.cell_dict.items():\n",
    "            for target in range(1, len(v) + 1): \n",
    "                self.model.Add(sum([self.x[subx, suby, target ] for (subx, suby) in v]) == 1)\n",
    "        \n",
    "        for i in range(self.X):\n",
    "            for target in range(1, self.cell_size ):\n",
    "                self.model.Add(sum([ self.x[i, j, target] for j in range(self.Y)]) == sum([ self.x[i, j, target + 1] for j in range(self.Y)]))\n",
    "\n",
    "        for j in range(self.Y):\n",
    "            for target in range(1, self.cell_size ):\n",
    "                self.model.Add(sum([ self.x[i, j, target] for i in range(self.X)]) == sum([ self.x[i, j, target + 1] for i in range(self.X)]))\n",
    "        \n",
    "        for i in range(self.X):\n",
    "            for j in range(self.Y - 1):\n",
    "                for k in range(1, self.cell_size + 1):\n",
    "                    self.model.Add(self.x[i, j, k] + self.x[i, j + 1, k ] <= 1)\n",
    "        \n",
    "        for j in range(self.Y):\n",
    "            for i in range(self.X - 1):\n",
    "                for k in range(1, self.cell_size + 1):\n",
    "                    self.model.Add(self.x[i, j, k] + self.x[i + 1, j, k ] <= 1)\n",
    "        status = self.solver.Solve(self.model)\n",
    "        \n",
    "        if status == cp.OPTIMAL:\n",
    "            for i in range(self.X):\n",
    "                for j in range(self.Y):\n",
    "                    for target in range(1, self.cell_size + 1):\n",
    "                        if self.solver.Value(self.x[i, j, target]) > 0.5:\n",
    "                            print(target, end = \" \")\n",
    "                print()\n",
    "            print()\n",
    "            \n",
    "if __name__ == \"__main__\":\n",
    "    m, n, grid, cells = readGrid(\"8x8_1\")\n",
    "    PatchworkSolverTest = PatchworkSolver(grid, cells, m, n)\n",
    "    PatchworkSolverTest.solve()\n",
    "                "
   ]
  },
  {
   "cell_type": "code",
   "execution_count": null,
   "metadata": {},
   "outputs": [],
   "source": []
  }
 ],
 "metadata": {
  "kernelspec": {
   "display_name": "py310",
   "language": "python",
   "name": "python3"
  },
  "language_info": {
   "codemirror_mode": {
    "name": "ipython",
    "version": 3
   },
   "file_extension": ".py",
   "mimetype": "text/x-python",
   "name": "python",
   "nbconvert_exporter": "python",
   "pygments_lexer": "ipython3",
   "version": "3.10.12"
  }
 },
 "nbformat": 4,
 "nbformat_minor": 2
}
