{
 "cells": [
  {
   "cell_type": "code",
   "execution_count": 5,
   "metadata": {},
   "outputs": [
    {
     "name": "stdout",
     "output_type": "stream",
     "text": [
      "8 8\n",
      "['-', '4', '4', '4', '3', '7', '2', '4', '8']\n",
      "['4', '0', '2', '2', '1', '3', '2', '2', '3']\n",
      "['8', '3', '3', '4', '4', '1', '0', '2', '6']\n",
      "['6', '4', '0', '0', '2', '4', '4', '2', '3']\n",
      "['6', '1', '3', '1', '3', '0', '2', '2', '2']\n",
      "['4', '1', '1', '1', '2', '3', '3', '2', '2']\n",
      "['2', '1', '3', '2', '1', '2', '1', '2', '2']\n",
      "['1', '1', '1', '4', '0', '3', '2', '2', '1']\n",
      "['5', '1', '2', '2', '0', '4', '3', '3', '2']\n"
     ]
    }
   ],
   "source": [
    "def readGrid(path):\n",
    "    with open(f\"../assets/data/Pills/{path}.txt\") as f:\n",
    "        num = f.readline()\n",
    "        m, n = num.split(\" \")[0], num.split(\" \")[1]\n",
    "        \n",
    "        grid = f.readlines()\n",
    "        res = [g.strip().split(\" \") for g in grid]\n",
    "        return int(m), int(n),  res\n",
    "\n",
    "if __name__ == \"__main__\":\n",
    "    m, n, grid = readGrid(\"problems/3_8x8\")\n",
    "    print(m, n)\n",
    "    # print(grid)\n",
    "    for g in grid:\n",
    "        print(g)\n",
    "    "
   ]
  },
  {
   "cell_type": "code",
   "execution_count": 19,
   "metadata": {},
   "outputs": [
    {
     "name": "stdout",
     "output_type": "stream",
     "text": [
      "- - - x x x x - - -\n",
      "- - - - - - x - x -\n",
      "- - - - - - x - x -\n",
      "x x x - - - - x x -\n",
      "- - - - - x - x - -\n",
      "- - - - x x - x - -\n",
      "- - - - x x - - - x\n",
      "- - - - x - - - - x\n",
      "- - - x x x - - - x\n",
      "x x x - - - - - - -\n"
     ]
    }
   ],
   "source": [
    "from ortools.sat.python import cp_model as cp\n",
    "\n",
    "def Pills_solver(X, Y, grid):\n",
    "    model = cp.CpModel()\n",
    "    solver = cp.CpSolver()\n",
    "    x = {}\n",
    "    clabels = grid[0][1:]\n",
    "    pills_sum_dict = dict()\n",
    "    \n",
    "    fill_in_dict = dict() # 记录每个格子会被哪些药囊方格填充\n",
    "    for i in range(X):\n",
    "        for j in range(Y):\n",
    "            fill_in_dict[i, j] = []\n",
    "    # 计算每个胶囊的和\n",
    "\n",
    "    rlabels = [grid[i][0] for i in range(1, len(grid))]\n",
    "    \n",
    "    # print(clabels, rlabels)\n",
    "    \n",
    "    for i in range(X):\n",
    "        for j in range(Y - 2):\n",
    "            x[0, i, j] = model.NewBoolVar(f\"x_0_{i}_{j}\")\n",
    "            \n",
    "            fill_in_dict[i, j].append(x[0, i, j])\n",
    "            fill_in_dict[i, j + 1].append(x[0, i, j])\n",
    "            fill_in_dict[i, j + 2].append(x[0, i, j])\n",
    "            \n",
    "            num_sum = int(grid[i + 1][j + 1]) + int(grid[i + 1][j + 2]) + int(grid[i + 1][j + 3])\n",
    "            if num_sum not in pills_sum_dict:\n",
    "                pills_sum_dict[num_sum] = [x[0, i, j]]\n",
    "            else:\n",
    "                pills_sum_dict[num_sum].append(x[0, i, j])\n",
    "\n",
    "    for i in range(X - 2):\n",
    "        for j in range(Y):\n",
    "            x[1, i, j] = model.NewBoolVar(f\"x_1_{i}_{j}\")\n",
    "            fill_in_dict[i, j].append(x[1, i, j])\n",
    "            fill_in_dict[i + 1, j].append(x[1, i, j])\n",
    "            fill_in_dict[i + 2, j].append(x[1, i, j])\n",
    "            num_sum = int(grid[i + 1][j + 1]) + int(grid[i + 2][j + 1]) + int(grid[i + 3][j + 1])\n",
    "            if num_sum not in pills_sum_dict:\n",
    "                pills_sum_dict[num_sum] = [x[1, i, j]]\n",
    "            else:\n",
    "                pills_sum_dict[num_sum].append(x[1, i, j])\n",
    "\n",
    "    for i in range(X):\n",
    "        arr = []\n",
    "        for j in range(Y):\n",
    "            arr.append(int(grid[i + 1][j + 1]) * sum(fill_in_dict[i, j]))\n",
    "        model.Add(sum(arr) == int(rlabels[i]))\n",
    "        \n",
    "    for j in range(Y):\n",
    "        arr = []\n",
    "        for i in range(X):\n",
    "            arr.append(int(grid[i + 1][j + 1]) * sum(fill_in_dict[i, j]))\n",
    "        model.Add(sum(arr) == int(clabels[j]))\n",
    "    \n",
    "    for i in range(1, X + 1):\n",
    "        model.Add(sum(pills_sum_dict[i]) == 1)\n",
    "    \n",
    "    for i in range(X):\n",
    "        for j in range(Y):\n",
    "            model.Add(sum(fill_in_dict[i, j]) <= 1)\n",
    "    \n",
    "    status = solver.Solve(model)\n",
    "    result = [[\"-\" for _ in range(Y) ] for _ in range(X)]\n",
    "    if status == cp.OPTIMAL:\n",
    "        for k, v in x.items():\n",
    "            if solver.Value(v) > 1e-3:\n",
    "                if k[0] == 0:\n",
    "                    result[k[1]][k[2]] = \"x\"\n",
    "                    result[k[1]][k[2] + 1] = \"x\"\n",
    "                    result[k[1]][k[2] + 2] = \"x\"\n",
    "                else:\n",
    "                    result[k[1]][k[2]] = \"x\"\n",
    "                    result[k[1] + 1][k[2]] = \"x\"\n",
    "                    result[k[1] + 2][k[2]] = \"x\"\n",
    "        for i in range(X):\n",
    "            for j in range(Y):\n",
    "                if j != Y - 1:\n",
    "                    print(result[i][j], end = \" \")\n",
    "                else:\n",
    "                    print(result[i][j], end = \"\\n\")\n",
    "\n",
    "if __name__ == \"__main__\":\n",
    "    m, n, grid = readGrid(\"problems/11_10x10\")\n",
    "    Pills_solver(m, n, grid)"
   ]
  },
  {
   "cell_type": "code",
   "execution_count": 9,
   "metadata": {},
   "outputs": [
    {
     "name": "stdout",
     "output_type": "stream",
     "text": [
      "[1, 2, 3]\n"
     ]
    }
   ],
   "source": [
    "a = [[1,2,3], [3,3,2]]\n"
   ]
  },
  {
   "cell_type": "code",
   "execution_count": null,
   "metadata": {},
   "outputs": [],
   "source": []
  }
 ],
 "metadata": {
  "kernelspec": {
   "display_name": "py310_arm",
   "language": "python",
   "name": "python3"
  },
  "language_info": {
   "codemirror_mode": {
    "name": "ipython",
    "version": 3
   },
   "file_extension": ".py",
   "mimetype": "text/x-python",
   "name": "python",
   "nbconvert_exporter": "python",
   "pygments_lexer": "ipython3",
   "version": "3.10.14"
  }
 },
 "nbformat": 4,
 "nbformat_minor": 2
}
