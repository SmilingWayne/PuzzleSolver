{
 "cells": [
  {
   "cell_type": "markdown",
   "metadata": {},
   "source": [
    "# SquareO\n",
    "\n",
    "- Blacken some grid dots.\n",
    "- A number in a cell indicates how many of the four surrounding grid dots are black.\n",
    "\n",
    "----------\n",
    "\n",
    "![](https://www.janko.at/Raetsel/SquarO/Regeln-01.gif) ![](https://www.janko.at/Raetsel/SquarO/Regeln-02.gif)\n",
    "\n",
    "> Links: https://www.janko.at/Raetsel/SquarO/index.htm\n"
   ]
  },
  {
   "cell_type": "code",
   "execution_count": 5,
   "metadata": {},
   "outputs": [
    {
     "name": "stdout",
     "output_type": "stream",
     "text": [
      "['2', '2', '2', '3', '3', '1', '1', '-', '1', '1', '2', '-', '3', '2', '1']\n",
      "['3', '3', '2', '2', '2', '-', '2', '-', '1', '0', '-', '2', '-', '2', '-']\n",
      "['2', '-', '3', '1', '-', '4', '3', '-', '2', '1', '-', '2', '-', '1', '2']\n",
      "['0', '2', '-', '2', '-', '-', '-', '3', '4', '-', '1', '-', '3', '-', '1']\n",
      "['2', '-', '3', '-', '2', '2', '2', '-', '-', '2', '-', '2', '2', '1', '-']\n",
      "['3', '3', '-', '3', '-', '-', '1', '1', '-', '-', '2', '-', '-', '2', '2']\n",
      "['3', '2', '2', '2', '3', '3', '-', '-', '1', '-', '1', '1', '2', '-', '2']\n",
      "['3', '-', '2', '-', '1', '-', '3', '3', '-', '-', '2', '2', '-', '2', '1']\n",
      "['-', '3', '1', '-', '-', '3', '3', '-', '3', '2', '2', '3', '-', '1', '-']\n",
      "['3', '-', '2', '3', '3', '-', '-', '2', '1', '2', '-', '2', '3', '-', '4']\n",
      "['2', '2', '-', '2', '-', '2', '2', '-', '-', '-', '3', '-', '-', '-', '-']\n",
      "['2', '3', '2', '-', '-', '-', '1', '-', '2', '-', '-', '3', '3', '1', '2']\n",
      "['2', '3', '-', '1', '2', '2', '-', '-', '3', '-', '2', '-', '2', '2', '-']\n",
      "['2', '3', '3', '-', '1', '1', '-', '3', '2', '3', '2', '-', '-', '1', '1']\n",
      "['2', '2', '2', '3', '-', '3', '-', '1', '2', '-', '2', '3', '3', '1', '1']\n"
     ]
    }
   ],
   "source": [
    "def readGrid(path):\n",
    "    with open(f\"../assets/data/SquareO/problems/{path}.txt\") as f:\n",
    "        num = f.readline()\n",
    "        m, n = num.split(\" \")[0], num.split(\" \")[1]\n",
    "        grid = f.readlines()\n",
    "        res = [g.strip().split(\" \") for g in grid]\n",
    "        return int(m), int(n), res\n",
    "\n",
    "if __name__ == \"__main__\":\n",
    "    m, n, grid = readGrid(\"evil_15x15_2\")\n",
    "    for g in grid:\n",
    "        print(g)"
   ]
  },
  {
   "cell_type": "code",
   "execution_count": 10,
   "metadata": {},
   "outputs": [
    {
     "name": "stdout",
     "output_type": "stream",
     "text": [
      "X . X . X X . . . . X . X . . . \n",
      ". X . X X . . X X . . X X X X . \n",
      "X X X . . X X . . . . . . . . X \n",
      ". . X X . X X X X X . X X X . X \n",
      ". . X . X . X . X X . . X . . . \n",
      "X X X X X . X . X . X X . X . X \n",
      "X . X . X X . . . . . . X . X . \n",
      "X X . X . X X . X . X . . X X . \n",
      ". X X . . . X X X X . X X . . . \n",
      "X X . . X X X . X . X . X . X X \n",
      "X . X X X . X X . . X . X X X X \n",
      "X . X . . X . . . . X X X . . X \n",
      ". X X . X X X . X X X . X X . X \n",
      "X . X . . . . X X . X . . . X . \n",
      ". X X X X . X X . X X . X . . . \n",
      "X . . . X X X . . X . X X X . X \n",
      "\n"
     ]
    }
   ],
   "source": [
    "from ortools.sat.python import cp_model as cp\n",
    "\n",
    "def squareO_solver(grid, X, Y):\n",
    "    model = cp.CpModel()\n",
    "    x = {}\n",
    "    for i in range(X + 1):\n",
    "        for j in range(Y + 1):\n",
    "            x[i, j] = model.NewBoolVar(name = f\"x[{i}, {j}]\")\n",
    "\n",
    "    for i in range(X):\n",
    "        for j in range(Y):\n",
    "            if grid[i][j] in \"012345\":\n",
    "                model.Add(x[i, j] + x[i, j + 1] + x[i + 1, j] + x[i + 1, j + 1] == int(grid[i][j]))\n",
    "    \n",
    "    solver = cp.CpSolver()\n",
    "    status = solver.Solve(model)\n",
    "    if status == cp.OPTIMAL:\n",
    "        for i in range(X + 1):\n",
    "            for j in range(Y + 1):\n",
    "                if solver.Value(x[i, j]) > 1e-5:\n",
    "                    print(\"X\", end = \" \")\n",
    "                else:\n",
    "                    print(\".\", end = \" \")\n",
    "            print()\n",
    "        print()\n",
    "    \n",
    "if __name__ == \"__main__\":\n",
    "    m, n, grid = readGrid(\"evil_15x15_2\")\n",
    "    squareO_solver(grid, m, n)"
   ]
  },
  {
   "cell_type": "markdown",
   "metadata": {},
   "source": []
  },
  {
   "cell_type": "markdown",
   "metadata": {},
   "source": []
  }
 ],
 "metadata": {
  "kernelspec": {
   "display_name": "py310_arm",
   "language": "python",
   "name": "python3"
  },
  "language_info": {
   "codemirror_mode": {
    "name": "ipython",
    "version": 3
   },
   "file_extension": ".py",
   "mimetype": "text/x-python",
   "name": "python",
   "nbconvert_exporter": "python",
   "pygments_lexer": "ipython3",
   "version": "3.10.14"
  }
 },
 "nbformat": 4,
 "nbformat_minor": 2
}
