{
 "cells": [
  {
   "cell_type": "code",
   "execution_count": 1,
   "metadata": {},
   "outputs": [
    {
     "name": "stdout",
     "output_type": "stream",
     "text": [
      "6 10\n",
      "['-', '4', '-', '2', '-', '9', '3', '8', '7', '5']\n",
      "['5', '-', '1', '7', '0', '8', '6', '9', '3', '4']\n",
      "['4', '-', '5', '-', '3', '7', '-', '-', '-', '-']\n",
      "['2', '6', '4', '8', '5', '-', '-', '7', '-', '-']\n",
      "['-', '3', '-', '-', '-', '-', '5', '-', '8', '6']\n",
      "['12', '23', '12', '20', '18', '40', '17', '34', '24', '25']\n"
     ]
    }
   ],
   "source": [
    "def readGrid(path):\n",
    "    with open(f\"../assets/data/TennerGrid/problems/{path}.txt\") as f:\n",
    "        num = f.readline()\n",
    "        m, n = num.split(\" \")[0], num.split(\" \")[1]\n",
    "        \n",
    "        grid = f.readlines()\n",
    "        res = [g.strip().split(\" \") for g in grid]\n",
    "        return int(m), int(n),  res\n",
    "\n",
    "if __name__ == \"__main__\":\n",
    "    m, n, grid = readGrid(\"1_6x10\")\n",
    "    print(m, n)\n",
    "    # print(grid)\n",
    "    for g in grid:\n",
    "        print(g)\n",
    "    "
   ]
  },
  {
   "cell_type": "code",
   "execution_count": 8,
   "metadata": {},
   "outputs": [
    {
     "name": "stdout",
     "output_type": "stream",
     "text": [
      "4 3 8 7 5 2 9 6 1 0 \n",
      "7 6 1 3 0 8 5 4 9 2 \n",
      "0 5 8 6 2 9 3 7 1 4 \n",
      "3 7 0 1 8 4 2 9 5 6 \n",
      "9 8 3 7 6 5 0 4 2 1 \n",
      "23 29 20 24 21 28 19 30 18 13 "
     ]
    }
   ],
   "source": [
    "from z3 import Solver, Int, Distinct, sat, And, Or, If, Sum\n",
    "\n",
    "def tennerGrid_solver(m, n, grid):\n",
    "    x = [[Int(f\"x_{i}_{j}\") for j in range(n)] for i in range(m - 1)]\n",
    "    s = Solver()\n",
    "\n",
    "    for i in range(m - 1):\n",
    "        for j in range(n):\n",
    "            if grid[i][j].isdigit():\n",
    "                s.add(x[i][j] == int(grid[i][j]))\n",
    "\n",
    "    # define the existing number\n",
    "    cells_constr  = [ And(0 <= x[i][j], x[i][j] <= 9) \n",
    "             for i in range(m - 1) for j in range(n) ]\n",
    "    # define the range of variables\n",
    "    \n",
    "    for i in range(m - 1):\n",
    "        s.add(Distinct([x[i][j] for j in range(n)]))\n",
    "\n",
    "    for j in range(n):\n",
    "        s.add(Sum([x[i][j] for i in range(m - 1)]) == int(grid[m - 1][j]))\n",
    "    # add summation constr ... \n",
    "    \n",
    "    for i in range(m - 1):\n",
    "        for j in range(n):\n",
    "            sur = []\n",
    "            for i1 in range(-1, 2, 1):\n",
    "                for j1 in range(-1, 2, 1):\n",
    "                    if (i1 == 0 and j1 == 0) or (i + i1 < 0 or i + i1 >= m - 1) or (j + j1 < 0 or j + j1 >= n) :\n",
    "                        continue\n",
    "                    sur.append(x[i + i1][j + j1])\n",
    "            for k in range(len(sur)):\n",
    "                s.add(x[i][j] != sur[k])\n",
    "    \n",
    "    s.add(cells_constr)\n",
    "    if s.check() == sat:\n",
    "        model = s.model()\n",
    "        r = [ [ model.evaluate(x[i][j]) for j in range(n) ] \n",
    "              for i in range(m - 1) ]\n",
    "        for i in range(m - 1):\n",
    "            for j in range(n):\n",
    "                print(r[i][j], end = \" \")\n",
    "            print(\"\")\n",
    "        for j in range(n):\n",
    "            print(int(grid[m - 1][j]), end = \" \")\n",
    "\n",
    "if __name__ == \"__main__\":\n",
    "    m, n, grid = readGrid(\"2_6x10\")\n",
    "    tennerGrid_solver(m, n, grid)"
   ]
  },
  {
   "cell_type": "code",
   "execution_count": null,
   "metadata": {},
   "outputs": [],
   "source": []
  }
 ],
 "metadata": {
  "kernelspec": {
   "display_name": "py310_arm",
   "language": "python",
   "name": "python3"
  },
  "language_info": {
   "codemirror_mode": {
    "name": "ipython",
    "version": 3
   },
   "file_extension": ".py",
   "mimetype": "text/x-python",
   "name": "python",
   "nbconvert_exporter": "python",
   "pygments_lexer": "ipython3",
   "version": "3.10.14"
  }
 },
 "nbformat": 4,
 "nbformat_minor": 2
}
