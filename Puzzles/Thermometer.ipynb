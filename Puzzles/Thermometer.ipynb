{
 "cells": [
  {
   "cell_type": "code",
   "execution_count": 5,
   "metadata": {},
   "outputs": [
    {
     "name": "stdout",
     "output_type": "stream",
     "text": [
      "10 10\n",
      "['1.1', '4.1', '4.2', '4.3', '10.1', '13.6', '13.1', '19.5', '19.4', '19.3']\n",
      "['1.2', '1.3', '1.4', '4.4', '10.2', '13.5', '13.2', '19.6', '18.1', '19.2']\n",
      "['7.4', '7.3', '7.2', '7.1', '10.3', '13.4', '13.3', '19.7', '18.2', '19.1']\n",
      "['5.1', '5.2', '5.3', '5.4', '5.5', '5.6', '14.1', '20.3', '20.2', '20.1']\n",
      "['2.1', '6.1', '6.2', '6.7', '6.6', '11.1', '14.2', '16.3', '22.7', '21.1']\n",
      "['2.2', '2.3', '6.3', '6.4', '6.5', '11.2', '14.3', '16.2', '22.6', '21.2']\n",
      "['3.4', '2.4', '8.4', '12.3', '12.2', '12.1', '14.4', '16.1', '22.5', '21.3']\n",
      "['3.3', '2.5', '8.3', '15.4', '15.3', '15.2', '15.1', '17.1', '22.4', '21.4']\n",
      "['3.2', '2.6', '8.2', '9.1', '9.4', '17.6', '17.5', '17.2', '22.3', '21.5']\n",
      "['3.1', '2.7', '8.1', '9.2', '9.3', '17.7', '17.4', '17.3', '22.2', '22.1']\n"
     ]
    }
   ],
   "source": [
    "def readGrid(path):\n",
    "    with open(f\"../assets/data/Thermometer/{path}.txt\") as f:\n",
    "        num = f.readline()\n",
    "        m, n = num.split(\" \")[0], num.split(\" \")[1]\n",
    "        clabels = f.readline().split(\" \")\n",
    "        rlabels = f.readline().split(\" \")\n",
    "        grid = f.readlines()\n",
    "        res = [g.strip().split(\" \") for g in grid]\n",
    "        return int(m), int(n), clabels, rlabels, res\n",
    "\n",
    "if __name__ == \"__main__\":\n",
    "    m, n, clabels, rlabels, grid = readGrid(\"problems/100_10x10\")\n",
    "    print(len(grid), len(grid[0]))\n",
    "    # print(grid)\n",
    "    for g in grid:\n",
    "        print(g)\n",
    "    "
   ]
  },
  {
   "cell_type": "code",
   "execution_count": 18,
   "metadata": {},
   "outputs": [
    {
     "name": "stdout",
     "output_type": "stream",
     "text": [
      "x x x x x - x x x x\n",
      "- - - x x - - x x x\n",
      "x x x x x - - x x x\n",
      "x - - - - - - x x x\n",
      "x - - - - - - x - x\n",
      "x x - - - - - x - x\n",
      "x x x - - - - x - - \n",
      "x - x x x x x x - - \n",
      "x - x x x - - x - - \n",
      "x - x x x - - x x x\n"
     ]
    }
   ],
   "source": [
    "from ortools.sat.python import cp_model as cp\n",
    "\n",
    "def Thermometer_solver(X, Y, clabels, rlabels, grid):\n",
    "    model = cp.CpModel()\n",
    "    solver = cp.CpSolver()\n",
    "    x = {}\n",
    "    for i in range(X):\n",
    "        for j in range(Y):\n",
    "            x[i, j] = model.NewBoolVar(f\"x_{i}_{j}\")\n",
    "    \n",
    "    for j in range(Y):\n",
    "        model.Add(sum([x[i, j] for i in range(X)]) == int(clabels[j]))\n",
    "    for i in range(X):\n",
    "        model.Add(sum([x[i, j] for j in range(Y)]) == int(rlabels[i]))\n",
    "    \n",
    "    ther_dict = dict()\n",
    "    # 表示温度计\n",
    "\n",
    "    for i in range(X):\n",
    "        for j in range(Y):\n",
    "            nums = grid[i][j].split(\".\")\n",
    "            if nums[0] in ther_dict:\n",
    "                ther_dict[nums[0]].append([int(nums[1]), i, j])\n",
    "            else:\n",
    "                ther_dict[nums[0]] = [[int(nums[1]), i, j]]\n",
    "\n",
    "    for k in ther_dict.keys():\n",
    "        \n",
    "        ther_dict[k] = sorted(ther_dict[k], key=lambda x: x[0])\n",
    "        # print(k, ther_dict[k])\n",
    "\n",
    "    for k, v in ther_dict.items():\n",
    "        for i in range(len(v) - 1):\n",
    "            a_1, b_1 = v[i][1], v[i][2]\n",
    "            a_2, b_2 = v[i + 1][1], v[i + 1][2]\n",
    "            model.Add(x[a_1, b_1] >= x[a_2, b_2])\n",
    "    \n",
    "    status = solver.Solve(model)\n",
    "    if status == cp.OPTIMAL:\n",
    "        for i in range(X):\n",
    "            for j in range(Y):\n",
    "                if solver.Value(x[i, j] ) > 1e-3:\n",
    "                    if j == Y - 1:\n",
    "                        print(\"x\", end = \"\")\n",
    "                    else:\n",
    "                        print(\"x\", end = ' ')\n",
    "                else:\n",
    "                    print(\"-\", end = ' ')\n",
    "            print(\"\")\n",
    "    \n",
    "if __name__ == '__main__':\n",
    "    m, n, clabels, rlabels, grid = readGrid(\"problems/100_10x10\")\n",
    "    Thermometer_solver(m, n, clabels, rlabels, grid)"
   ]
  },
  {
   "cell_type": "code",
   "execution_count": 6,
   "metadata": {},
   "outputs": [
    {
     "name": "stdout",
     "output_type": "stream",
     "text": [
      "[[0, 2, 3], [1, 2, 3], [3, 4, 5]]\n"
     ]
    }
   ],
   "source": [
    "a = [[1,2,3],[3,4,5],[0,2,3]]\n",
    "sorted_arr = sorted(a, key=lambda x: x[0])\n",
    "print(sorted_arr)\n"
   ]
  },
  {
   "cell_type": "code",
   "execution_count": null,
   "metadata": {},
   "outputs": [],
   "source": []
  }
 ],
 "metadata": {
  "kernelspec": {
   "display_name": "py310_x64",
   "language": "python",
   "name": "python3"
  },
  "language_info": {
   "codemirror_mode": {
    "name": "ipython",
    "version": 3
   },
   "file_extension": ".py",
   "mimetype": "text/x-python",
   "name": "python",
   "nbconvert_exporter": "python",
   "pygments_lexer": "ipython3",
   "version": "3.10.15"
  }
 },
 "nbformat": 4,
 "nbformat_minor": 2
}
