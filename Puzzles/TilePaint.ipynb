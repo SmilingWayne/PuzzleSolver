{
  "cells": [
    {
      "cell_type": "code",
      "execution_count": 6,
      "metadata": {},
      "outputs": [
        {
          "name": "stdout",
          "output_type": "stream",
          "text": [
            "['6', '-', '8', '11', '5', '6', '7', '8', '-', '7', '5', '7', '-', '12', '11'] ['8', '8', '11', '8', '8', '8', '7', '6', '9', '-', '4', '-', '-', '5', '9']\n",
            "['1', '1', '2', '3', '3', '4', '5', '5', '6', '7', '7', '8', '8', '9', '9']\n",
            "['1', '1', '2', '10', '4', '4', '5', '6', '6', '6', '11', '11', '8', '12', '12']\n",
            "['13', '2', '2', '10', '14', '14', '15', '15', '16', '16', '16', '11', '11', '12', '12']\n",
            "['13', '17', '17', '10', '14', '14', '15', '15', '18', '19', '19', '19', '20', '21', '21']\n",
            "['22', '17', '23', '23', '24', '24', '25', '25', '18', '19', '26', '20', '20', '21', '21']\n",
            "['22', '17', '27', '28', '28', '29', '29', '25', '18', '18', '26', '26', '20', '30', '30']\n",
            "['31', '31', '27', '27', '32', '32', '29', '25', '33', '34', '35', '36', '36', '36', '37']\n",
            "['31', '38', '38', '27', '32', '32', '39', '33', '33', '34', '35', '40', '36', '41', '37']\n",
            "['42', '42', '42', '43', '44', '44', '39', '39', '45', '46', '47', '40', '48', '41', '41']\n",
            "['49', '43', '43', '43', '44', '44', '50', '50', '45', '46', '47', '40', '48', '41', '51']\n",
            "['49', '49', '49', '52', '52', '53', '53', '54', '54', '55', '55', '40', '48', '48', '51']\n",
            "['56', '56', '57', '57', '52', '58', '58', '59', '59', '60', '60', '61', '62', '62', '51']\n",
            "['63', '63', '63', '63', '64', '65', '66', '59', '67', '60', '60', '61', '61', '62', '68']\n",
            "['69', '69', '70', '70', '64', '65', '66', '66', '67', '71', '71', '71', '61', '62', '68']\n",
            "['69', '69', '70', '70', '64', '72', '72', '73', '73', '71', '74', '74', '74', '68', '68']\n"
          ]
        }
      ],
      "source": [
        "def readGrid(path):\n",
        "    with open(f\"../assets/data/TilePaint/problems/{path}.txt\") as f:\n",
        "        num = f.readline()\n",
        "        m, n = num.split(\" \")[0], num.split(\" \")[1]\n",
        "        rows = list(map(str,f.readline().strip().split(\" \"))) \n",
        "        cols = list(map(str,f.readline().strip().split(\" \"))) \n",
        "\n",
        "        grid = f.readlines()\n",
        "        res = [g.strip().split(\" \") for g in grid]\n",
        "        for idx, g in enumerate(res):\n",
        "            res[idx] = list(map(str, g))\n",
        "        return int(m), int(n), rows, cols, res\n",
        "\n",
        "if __name__ == \"__main__\":\n",
        "    m, n, rows, cols, grid = readGrid(\"0w97g_15x15\")\n",
        "    print(rows, cols)\n",
        "    # display row and col numbers\n",
        "    for g in grid:\n",
        "        print(g)\n",
        "        # display the cell index of grid\n",
        "    \n"
      ]
    },
    {
      "cell_type": "code",
      "execution_count": 5,
      "metadata": {},
      "outputs": [
        {
          "name": "stdout",
          "output_type": "stream",
          "text": [
            "X X X X X X . . . X X . . . . \n",
            "X X X X X X . . . . . . . X X \n",
            "X X X X . . X X X X X . . X X \n",
            "X . . X . . X X X . . . X X X \n",
            "X . . . . . X X X . . X X X X \n",
            "X . X X X . . X X X . . X . . \n",
            ". . X X . . . X . X . X X X . \n",
            ". . . X . . X . . X . X X X . \n",
            ". . . X X X X X X . . X . X X \n",
            ". X X X X X . . X . . X . X X \n",
            ". . . . . X X . . . . X . . X \n",
            ". . . . . . . X X X X . X X X \n",
            ". . . . . . . X X X X . . X X \n",
            ". . X X . . . . X . . . . X X \n",
            ". . X X . X X . . . X X X X X \n",
            "\n"
          ]
        }
      ],
      "source": [
        "from ortools.sat.python import cp_model as cp\n",
        "\n",
        "def tilepaint_solver(m, n, rows, cols, grid):\n",
        "    model = cp.CpModel()\n",
        "    cells = dict()\n",
        "    cells_name = set()\n",
        "    x = dict()\n",
        "    for i in range(m):\n",
        "        for j in range(n):\n",
        "            if grid[i][j] not in cells_name:\n",
        "                cells_name.add(grid[i][j])\n",
        "            cells[i, j] = grid[i][j]\n",
        "            # if grid[i][j] not in cells:\n",
        "            #     cells[grid[i][j]] = [[i, j]]\n",
        "            # else:\n",
        "            #     cells[grid[i][j]].append([i, j])\n",
        "    for k in list(cells_name):\n",
        "        x[k] = model.NewBoolVar(name = f\"cell_{k}\")\n",
        "    \n",
        "    for idx, row in enumerate(rows):\n",
        "        if row in \"-.*\":\n",
        "            # 如果这个列没有约束涂黑的格子的数量\n",
        "            continue\n",
        "        \n",
        "        ready_list = []\n",
        "        for j in range(m):\n",
        "            ready_list.append(x[cells[j, idx]])\n",
        "        model.Add(sum(ready_list) == int(row))\n",
        "    for idx, col in enumerate(cols):\n",
        "        if col in \"-.*\":\n",
        "            # 如果这个列没有约束涂黑的格子的数量\n",
        "            continue\n",
        "        \n",
        "        ready_list = []\n",
        "        for j in range(n):\n",
        "            ready_list.append(x[cells[idx, j]])\n",
        "        model.Add(sum(ready_list) == int(col))\n",
        "    \n",
        "    solver = cp.CpSolver()\n",
        "    status = solver.Solve(model)\n",
        "    if status == cp.OPTIMAL:\n",
        "        for i in range(m):\n",
        "            for j in range(n):\n",
        "                if solver.Value(x[cells[i, j]]) > 1e-5:\n",
        "                    print(\"X\", end =  \" \")\n",
        "                else:\n",
        "                    print(\".\", end = \" \")\n",
        "            print()\n",
        "        print()\n",
        "\n",
        "if __name__ == \"__main__\":\n",
        "    m, n, rows, cols, grid = readGrid(\"0w97g_15x15\")\n",
        "    tilepaint_solver(m, n, rows, cols, grid)"
      ]
    },
    {
      "cell_type": "code",
      "execution_count": null,
      "metadata": {},
      "outputs": [],
      "source": []
    }
  ],
  "metadata": {
    "kernelspec": {
      "display_name": "py310_arm",
      "language": "python",
      "name": "python3"
    },
    "language_info": {
      "codemirror_mode": {
        "name": "ipython",
        "version": 3
      },
      "file_extension": ".py",
      "mimetype": "text/x-python",
      "name": "python",
      "nbconvert_exporter": "python",
      "pygments_lexer": "ipython3",
      "version": "3.10.14"
    }
  },
  "nbformat": 4,
  "nbformat_minor": 2
}
