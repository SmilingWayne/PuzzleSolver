{
 "cells": [
  {
   "cell_type": "markdown",
   "metadata": {},
   "source": [
    "- Some utils for puzzle solver "
   ]
  },
  {
   "cell_type": "code",
   "execution_count": null,
   "metadata": {},
   "outputs": [],
   "source": [
    "# slitherlink split and cut pictures\n",
    "\n",
    "from PIL import Image\n",
    "\n",
    "def split_image(image_path, grid_size, save_path):\n",
    "    # 加载图片\n",
    "    img = Image.open(image_path)\n",
    "    img_width, img_height = img.size\n",
    "    # 确定每个网格的尺寸\n",
    "    cell_width = img_width // grid_size\n",
    "    cell_height = img_height // grid_size\n",
    "    # 切割图片并保存每个网格\n",
    "    for i in range(grid_size):\n",
    "        for j in range(grid_size):\n",
    "            left = j * cell_width\n",
    "            upper = i * cell_height\n",
    "            right = left + cell_width\n",
    "            lower = upper + cell_height\n",
    "            print((left, upper ,right, lower))\n",
    "            # 根据计算的坐标切割图片\n",
    "            cell_image = img.crop((left, upper, right, lower))\n",
    "            # 构造每个切割图片的保存路径\n",
    "            cell_image_path = f\"{save_path}/cell_{i}_{j}.png\"\n",
    "            # 保存图片\n",
    "            cell_image.save(cell_image_path)\n",
    "            print(f\"Saved {cell_image_path}\")\n",
    "\n",
    "# 调用函数，确保传入正确的图片路径、网格尺寸和保存路径\n",
    "split_image(\"/Users/apple/Desktop/60x60.jpeg\", 60, \"./Slitherlink_data\")\n"
   ]
  },
  {
   "cell_type": "markdown",
   "metadata": {},
   "source": []
  }
 ],
 "metadata": {
  "language_info": {
   "name": "python"
  }
 },
 "nbformat": 4,
 "nbformat_minor": 2
}
